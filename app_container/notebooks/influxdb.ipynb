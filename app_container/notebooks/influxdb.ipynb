{
 "cells": [
  {
   "cell_type": "code",
   "execution_count": 1,
   "id": "90eca3b5",
   "metadata": {},
   "outputs": [],
   "source": [
    "# !pip install influxdb-client\n",
    "import os, time\n",
    "from influxdb import InfluxDBClient\n",
    "import influxdb.client\n",
    "\n",
    "token = \"DWS9Hg5BFNVPCGwEHqaaITy6DpCRcRv9sHezvi9F2eYHcvVUQVfNSOrqVZwSHqIvl2Nrqv5X8oIMiJB2xNHMkA==\"\n",
    "org = \"CoreOutline\"\n",
    "host = \"https://us-east-1-1.aws.cloud2.influxdata.com\"\n",
    "\n"
   ]
  },
  {
   "cell_type": "code",
   "execution_count": null,
   "id": "5bea25d3",
   "metadata": {},
   "outputs": [],
   "source": []
  },
  {
   "cell_type": "code",
   "execution_count": null,
   "id": "1f3bc0d5",
   "metadata": {},
   "outputs": [],
   "source": []
  },
  {
   "cell_type": "code",
   "execution_count": 2,
   "id": "a961ec95",
   "metadata": {},
   "outputs": [],
   "source": [
    "from influxdb_client import InfluxDBClient, Point\n",
    "from influxdb_client.client.write_api import SYNCHRONOUS"
   ]
  },
  {
   "cell_type": "code",
   "execution_count": 3,
   "id": "cf87be32",
   "metadata": {},
   "outputs": [],
   "source": [
    "server_url = \"https://us-east-1-1.aws.cloud2.influxdata.com\"\n",
    "token = \"DWS9Hg5BFNVPCGwEHqaaITy6DpCRcRv9sHezvi9F2eYHcvVUQVfNSOrqVZwSHqIvl2Nrqv5X8oIMiJB2xNHMkA==\"\n",
    "org = \"CoreOutline\"\n",
    "\n",
    "client = InfluxDBClient(url=server_url, token=token, org=org)"
   ]
  },
  {
   "cell_type": "code",
   "execution_count": 4,
   "id": "887bf8e7",
   "metadata": {},
   "outputs": [
    {
     "ename": "TypeError",
     "evalue": "Point.tag() missing 1 required positional argument: 'value'",
     "output_type": "error",
     "traceback": [
      "\u001b[1;31m---------------------------------------------------------------------------\u001b[0m",
      "\u001b[1;31mTypeError\u001b[0m                                 Traceback (most recent call last)",
      "Input \u001b[1;32mIn [4]\u001b[0m, in \u001b[0;36m<cell line: 7>\u001b[1;34m()\u001b[0m\n\u001b[0;32m      4\u001b[0m fields \u001b[38;5;241m=\u001b[39m {\u001b[38;5;124m\"\u001b[39m\u001b[38;5;124mvalue\u001b[39m\u001b[38;5;124m\"\u001b[39m: \u001b[38;5;241m25.5\u001b[39m}\n\u001b[0;32m      6\u001b[0m write_api \u001b[38;5;241m=\u001b[39m client\u001b[38;5;241m.\u001b[39mwrite_api(write_options\u001b[38;5;241m=\u001b[39mSYNCHRONOUS)\n\u001b[1;32m----> 7\u001b[0m point \u001b[38;5;241m=\u001b[39m \u001b[43mPoint\u001b[49m\u001b[43m(\u001b[49m\u001b[43mmeasurement\u001b[49m\u001b[43m)\u001b[49m\u001b[38;5;241;43m.\u001b[39;49m\u001b[43mtag\u001b[49m\u001b[43m(\u001b[49m\u001b[43mtags\u001b[49m\u001b[43m)\u001b[49m\u001b[38;5;241m.\u001b[39mfield(\u001b[38;5;241m*\u001b[39m\u001b[38;5;241m*\u001b[39mfields)\n\u001b[0;32m      8\u001b[0m write_api\u001b[38;5;241m.\u001b[39mwrite(bucket\u001b[38;5;241m=\u001b[39mbucket, record\u001b[38;5;241m=\u001b[39mpoint)\n",
      "\u001b[1;31mTypeError\u001b[0m: Point.tag() missing 1 required positional argument: 'value'"
     ]
    }
   ],
   "source": [
    "bucket = \"storage\"\n",
    "measurement = \"temperature\"\n",
    "tags = {\"location\": \"room1\"}\n",
    "fields = {\"value\": 25.5}\n",
    "\n",
    "write_api = client.write_api(write_options=SYNCHRONOUS)\n",
    "point = Point(measurement).tag(tags).field(**fields)\n",
    "write_api.write(bucket=bucket, record=point)"
   ]
  },
  {
   "cell_type": "code",
   "execution_count": 17,
   "id": "722ddd44",
   "metadata": {},
   "outputs": [
    {
     "ename": "AttributeError",
     "evalue": "module 'influxdb.client' has no attribute 'write_api'",
     "output_type": "error",
     "traceback": [
      "\u001b[1;31m---------------------------------------------------------------------------\u001b[0m",
      "\u001b[1;31mAttributeError\u001b[0m                            Traceback (most recent call last)",
      "Input \u001b[1;32mIn [17]\u001b[0m, in \u001b[0;36m<cell line: 37>\u001b[1;34m()\u001b[0m\n\u001b[0;32m     37\u001b[0m \u001b[38;5;28;01mfor\u001b[39;00m key \u001b[38;5;129;01min\u001b[39;00m data:\n\u001b[0;32m     38\u001b[0m     point \u001b[38;5;241m=\u001b[39m (\n\u001b[0;32m     39\u001b[0m     Point(\u001b[38;5;124m\"\u001b[39m\u001b[38;5;124mcensus\u001b[39m\u001b[38;5;124m\"\u001b[39m)\n\u001b[0;32m     40\u001b[0m     \u001b[38;5;241m.\u001b[39mtag(\u001b[38;5;124m\"\u001b[39m\u001b[38;5;124mlocation\u001b[39m\u001b[38;5;124m\"\u001b[39m, data[key][\u001b[38;5;124m\"\u001b[39m\u001b[38;5;124mlocation\u001b[39m\u001b[38;5;124m\"\u001b[39m])\n\u001b[0;32m     41\u001b[0m     \u001b[38;5;241m.\u001b[39mfield(data[key][\u001b[38;5;124m\"\u001b[39m\u001b[38;5;124mspecies\u001b[39m\u001b[38;5;124m\"\u001b[39m], data[key][\u001b[38;5;124m\"\u001b[39m\u001b[38;5;124mcount\u001b[39m\u001b[38;5;124m\"\u001b[39m])\n\u001b[0;32m     42\u001b[0m     )\n\u001b[1;32m---> 43\u001b[0m     \u001b[43mclient\u001b[49m\u001b[38;5;241;43m.\u001b[39;49m\u001b[43mwrite_api\u001b[49m(database\u001b[38;5;241m=\u001b[39mdatabase, record\u001b[38;5;241m=\u001b[39mpoint)\n\u001b[0;32m     44\u001b[0m     time\u001b[38;5;241m.\u001b[39msleep(\u001b[38;5;241m1\u001b[39m) \u001b[38;5;66;03m# separate points by 1 second\u001b[39;00m\n\u001b[0;32m     46\u001b[0m \u001b[38;5;28mprint\u001b[39m(\u001b[38;5;124m\"\u001b[39m\u001b[38;5;124mComplete. Return to the InfluxDB UI.\u001b[39m\u001b[38;5;124m\"\u001b[39m)\n",
      "\u001b[1;31mAttributeError\u001b[0m: module 'influxdb.client' has no attribute 'write_api'"
     ]
    }
   ],
   "source": [
    "from influxdb import client\n",
    "database=\"storage\"\n",
    "\n",
    "data = {\n",
    "  \"point1\": {\n",
    "    \"location\": \"Klamath\",\n",
    "    \"species\": \"bees\",\n",
    "    \"count\": 23,\n",
    "  },\n",
    "  \"point2\": {\n",
    "    \"location\": \"Portland\",\n",
    "    \"species\": \"ants\",\n",
    "    \"count\": 30,\n",
    "  },\n",
    "  \"point3\": {\n",
    "    \"location\": \"Klamath\",\n",
    "    \"species\": \"bees\",\n",
    "    \"count\": 28,\n",
    "  },\n",
    "  \"point4\": {\n",
    "    \"location\": \"Portland\",\n",
    "    \"species\": \"ants\",\n",
    "    \"count\": 32,\n",
    "  },\n",
    "  \"point5\": {\n",
    "    \"location\": \"Klamath\",\n",
    "    \"species\": \"bees\",\n",
    "    \"count\": 29,\n",
    "  },\n",
    "  \"point6\": {\n",
    "    \"location\": \"Portland\",\n",
    "    \"species\": \"ants\",\n",
    "    \"count\": 40,\n",
    "  },\n",
    "}\n",
    "\n",
    "for key in data:\n",
    "    point = (\n",
    "    Point(\"census\")\n",
    "    .tag(\"location\", data[key][\"location\"])\n",
    "    .field(data[key][\"species\"], data[key][\"count\"])\n",
    "    )\n",
    "    client.write(database=database, record=point)\n",
    "    time.sleep(1) # separate points by 1 second\n",
    "\n",
    "print(\"Complete. Return to the InfluxDB UI.\")"
   ]
  },
  {
   "cell_type": "code",
   "execution_count": 15,
   "id": "684c27be",
   "metadata": {},
   "outputs": [
    {
     "ename": "AttributeError",
     "evalue": "'InfluxDBClient' object has no attribute 'query'",
     "output_type": "error",
     "traceback": [
      "\u001b[1;31m---------------------------------------------------------------------------\u001b[0m",
      "\u001b[1;31mAttributeError\u001b[0m                            Traceback (most recent call last)",
      "Input \u001b[1;32mIn [15]\u001b[0m, in \u001b[0;36m<cell line: 7>\u001b[1;34m()\u001b[0m\n\u001b[0;32m      1\u001b[0m query \u001b[38;5;241m=\u001b[39m \u001b[38;5;124m\"\"\"\u001b[39m\u001b[38;5;124mSELECT *\u001b[39m\n\u001b[0;32m      2\u001b[0m \u001b[38;5;124mFROM \u001b[39m\u001b[38;5;124m'\u001b[39m\u001b[38;5;124mcensus\u001b[39m\u001b[38;5;124m'\u001b[39m\n\u001b[0;32m      3\u001b[0m \u001b[38;5;124mWHERE time >= now() - interval \u001b[39m\u001b[38;5;124m'\u001b[39m\u001b[38;5;124m24 hours\u001b[39m\u001b[38;5;124m'\u001b[39m\n\u001b[0;32m      4\u001b[0m \u001b[38;5;124m\"\"\"\u001b[39m\n\u001b[0;32m      6\u001b[0m \u001b[38;5;66;03m# Execute the query\u001b[39;00m\n\u001b[1;32m----> 7\u001b[0m table \u001b[38;5;241m=\u001b[39m \u001b[43mclient\u001b[49m\u001b[38;5;241;43m.\u001b[39;49m\u001b[43mquery\u001b[49m(query\u001b[38;5;241m=\u001b[39mquery, database\u001b[38;5;241m=\u001b[39m\u001b[38;5;124m\"\u001b[39m\u001b[38;5;124mmy-bucket\u001b[39m\u001b[38;5;124m\"\u001b[39m, language\u001b[38;5;241m=\u001b[39m\u001b[38;5;124m'\u001b[39m\u001b[38;5;124msql\u001b[39m\u001b[38;5;124m'\u001b[39m)\n\u001b[0;32m      9\u001b[0m \u001b[38;5;66;03m# Convert to dataframe\u001b[39;00m\n\u001b[0;32m     10\u001b[0m df \u001b[38;5;241m=\u001b[39m table\u001b[38;5;241m.\u001b[39mto_pandas()\u001b[38;5;241m.\u001b[39msort_values(by\u001b[38;5;241m=\u001b[39m\u001b[38;5;124m\"\u001b[39m\u001b[38;5;124mtime\u001b[39m\u001b[38;5;124m\"\u001b[39m)\n",
      "\u001b[1;31mAttributeError\u001b[0m: 'InfluxDBClient' object has no attribute 'query'"
     ]
    }
   ],
   "source": [
    "query = \"\"\"SELECT *\n",
    "FROM 'census'\n",
    "WHERE time >= now() - interval '24 hours'\n",
    "\"\"\"\n",
    "\n",
    "# Execute the query\n",
    "table = client.query(query=query, database=\"my-bucket\", language='sql')\n",
    "\n",
    "# Convert to dataframe\n",
    "df = table.to_pandas().sort_values(by=\"time\")\n",
    "print(df)"
   ]
  },
  {
   "cell_type": "code",
   "execution_count": 19,
   "id": "216d366c",
   "metadata": {},
   "outputs": [
    {
     "data": {
      "text/plain": [
       "['InfluxDBClient',\n",
       " 'InfluxDBClientError',\n",
       " 'InfluxDBServerError',\n",
       " 'ResultSet',\n",
       " '__builtins__',\n",
       " '__cached__',\n",
       " '__doc__',\n",
       " '__file__',\n",
       " '__loader__',\n",
       " '__name__',\n",
       " '__package__',\n",
       " '__spec__',\n",
       " '_msgpack_parse_hook',\n",
       " '_parse_dsn',\n",
       " '_parse_netloc',\n",
       " 'absolute_import',\n",
       " 'chain',\n",
       " 'datetime',\n",
       " 'division',\n",
       " 'gzip',\n",
       " 'io',\n",
       " 'islice',\n",
       " 'itertools',\n",
       " 'json',\n",
       " 'make_lines',\n",
       " 'msgpack',\n",
       " 'print_function',\n",
       " 'quote_ident',\n",
       " 'quote_literal',\n",
       " 'random',\n",
       " 'requests',\n",
       " 'socket',\n",
       " 'struct',\n",
       " 'time',\n",
       " 'unicode_literals',\n",
       " 'urlparse']"
      ]
     },
     "execution_count": 19,
     "metadata": {},
     "output_type": "execute_result"
    }
   ],
   "source": [
    "dir(client)"
   ]
  },
  {
   "cell_type": "code",
   "execution_count": null,
   "id": "21973d7e",
   "metadata": {},
   "outputs": [],
   "source": []
  }
 ],
 "metadata": {
  "kernelspec": {
   "display_name": "Python 3 (ipykernel)",
   "language": "python",
   "name": "python3"
  },
  "language_info": {
   "codemirror_mode": {
    "name": "ipython",
    "version": 3
   },
   "file_extension": ".py",
   "mimetype": "text/x-python",
   "name": "python",
   "nbconvert_exporter": "python",
   "pygments_lexer": "ipython3",
   "version": "3.10.7"
  }
 },
 "nbformat": 4,
 "nbformat_minor": 5
}
