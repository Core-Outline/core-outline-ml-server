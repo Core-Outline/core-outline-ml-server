{
 "cells": [
  {
   "cell_type": "code",
   "execution_count": 1,
   "id": "6fa9f05b",
   "metadata": {},
   "outputs": [],
   "source": [
    "# !pip install selenium --upgrade"
   ]
  },
  {
   "cell_type": "code",
   "execution_count": 2,
   "id": "1202c3a0",
   "metadata": {},
   "outputs": [],
   "source": [
    "from selenium import webdriver\n",
    "from selenium.webdriver.common.keys import Keys\n",
    "# from webdriver_manager.chrome import ChromeDriverManager\n",
    "import time\n",
    "from selenium.webdriver.common.by import By\n",
    "import pickle\n",
    "from selenium.webdriver.chrome.options import Options\n",
    "\n",
    "from selenium.webdriver.support.ui import WebDriverWait\n",
    "from selenium.webdriver.support import expected_conditions as EC\n",
    "\n",
    "import pathlib"
   ]
  },
  {
   "cell_type": "code",
   "execution_count": null,
   "id": "7a73232f",
   "metadata": {},
   "outputs": [],
   "source": []
  },
  {
   "cell_type": "code",
   "execution_count": 3,
   "id": "d5d3f813",
   "metadata": {},
   "outputs": [],
   "source": [
    "profile_url = 'https://www.instagram.com/_loopside_'"
   ]
  },
  {
   "cell_type": "code",
   "execution_count": null,
   "id": "923e4120",
   "metadata": {},
   "outputs": [],
   "source": []
  },
  {
   "cell_type": "code",
   "execution_count": null,
   "id": "a980ae3d",
   "metadata": {},
   "outputs": [],
   "source": []
  },
  {
   "cell_type": "code",
   "execution_count": 4,
   "id": "690b8105",
   "metadata": {},
   "outputs": [
    {
     "name": "stderr",
     "output_type": "stream",
     "text": [
      "Error getting version of chromedriver 115. Retrying with chromedriver 114 (attempt 1/5)\n"
     ]
    }
   ],
   "source": [
    "driver = webdriver.Chrome()\n"
   ]
  },
  {
   "cell_type": "code",
   "execution_count": null,
   "id": "8d056070",
   "metadata": {},
   "outputs": [],
   "source": []
  },
  {
   "cell_type": "code",
   "execution_count": null,
   "id": "758ec774",
   "metadata": {},
   "outputs": [],
   "source": []
  },
  {
   "cell_type": "code",
   "execution_count": 5,
   "id": "cb86d6ff",
   "metadata": {},
   "outputs": [],
   "source": [
    "driver.get(profile_url.format(username='_loopside'))"
   ]
  },
  {
   "cell_type": "code",
   "execution_count": null,
   "id": "3a591d2b",
   "metadata": {},
   "outputs": [],
   "source": []
  },
  {
   "cell_type": "code",
   "execution_count": 6,
   "id": "5061cc1b",
   "metadata": {},
   "outputs": [
    {
     "data": {
      "text/plain": [
       "<selenium.webdriver.remote.webelement.WebElement (session=\"8b0956c7631939fedc5fb87abfd6f846\", element=\"2C4548745F7CBE48B9281591F8172AD8_element_10\")>"
      ]
     },
     "execution_count": 6,
     "metadata": {},
     "output_type": "execute_result"
    }
   ],
   "source": [
    "wait = WebDriverWait(driver, 10)\n",
    "wait.until(EC.presence_of_element_located((By.LINK_TEXT,'Log In')))  # Wait for a specific element to appear on the page indicating successful login\n"
   ]
  },
  {
   "cell_type": "code",
   "execution_count": 7,
   "id": "afee3537",
   "metadata": {},
   "outputs": [],
   "source": [
    "login_button = driver.find_element(By.LINK_TEXT,'Log In')\n",
    "login_button.click()"
   ]
  },
  {
   "cell_type": "code",
   "execution_count": 8,
   "id": "a0ebf0cb",
   "metadata": {},
   "outputs": [
    {
     "data": {
      "text/plain": [
       "<selenium.webdriver.remote.webelement.WebElement (session=\"8b0956c7631939fedc5fb87abfd6f846\", element=\"2C4548745F7CBE48B9281591F8172AD8_element_11\")>"
      ]
     },
     "execution_count": 8,
     "metadata": {},
     "output_type": "execute_result"
    }
   ],
   "source": [
    "wait = WebDriverWait(driver, 10)\n",
    "wait.until(EC.presence_of_element_located((By.NAME,'username')))  # Wait for a specific element to appear on the page indicating successful login\n"
   ]
  },
  {
   "cell_type": "code",
   "execution_count": 9,
   "id": "a53e2c99",
   "metadata": {},
   "outputs": [],
   "source": [
    "email_input = driver.find_element(By.NAME,'username')\n",
    "email_input.send_keys('lots.of_teddybear.hugs')  # Replace with your Facebook email/username\n"
   ]
  },
  {
   "cell_type": "code",
   "execution_count": 10,
   "id": "2d4df1fa",
   "metadata": {},
   "outputs": [],
   "source": [
    "password_input = driver.find_element(By.NAME,'password')\n",
    "password_input.send_keys('Tobirama1307')  # Replace with your Facebook password"
   ]
  },
  {
   "cell_type": "code",
   "execution_count": 11,
   "id": "fbdc6413",
   "metadata": {},
   "outputs": [],
   "source": [
    "login_button = driver.find_element(By.XPATH, \"//div[text()='Log in']\")\n",
    "login_button.click()"
   ]
  },
  {
   "cell_type": "code",
   "execution_count": 12,
   "id": "0b7fb020",
   "metadata": {},
   "outputs": [
    {
     "data": {
      "text/plain": [
       "<selenium.webdriver.remote.webelement.WebElement (session=\"8b0956c7631939fedc5fb87abfd6f846\", element=\"70C35DCE9AFDB22359776F2F714E6C34_element_25\")>"
      ]
     },
     "execution_count": 12,
     "metadata": {},
     "output_type": "execute_result"
    }
   ],
   "source": [
    "wait = WebDriverWait(driver, 10)\n",
    "wait.until(EC.presence_of_element_located((By.XPATH, \"//div[text()='Not Now']\")))  # Wait for a specific element to appear on the page indicating successful login\n"
   ]
  },
  {
   "cell_type": "code",
   "execution_count": 13,
   "id": "341353e7",
   "metadata": {},
   "outputs": [],
   "source": [
    "save_info_button = driver.find_element(By.XPATH, \"//button[text()='Save Info']\")\n",
    "save_info_button.click()"
   ]
  },
  {
   "cell_type": "code",
   "execution_count": 14,
   "id": "58229e40",
   "metadata": {},
   "outputs": [],
   "source": [
    "cookies = driver.get_cookies()"
   ]
  },
  {
   "cell_type": "code",
   "execution_count": 15,
   "id": "89483f2a",
   "metadata": {},
   "outputs": [],
   "source": [
    "with open('cookies.pkl', 'wb') as f:\n",
    "    pickle.dump(cookies, f)"
   ]
  },
  {
   "cell_type": "code",
   "execution_count": 16,
   "id": "47fb1f8a",
   "metadata": {},
   "outputs": [],
   "source": [
    "with open('cookies.pkl', 'rb') as f:\n",
    "    cookies = pickle.load(f)\n",
    "\n",
    "for cookie in cookies:\n",
    "    driver.add_cookie(cookie)"
   ]
  },
  {
   "cell_type": "code",
   "execution_count": 17,
   "id": "a0aa5f27",
   "metadata": {},
   "outputs": [],
   "source": [
    "driver.quit()"
   ]
  },
  {
   "cell_type": "code",
   "execution_count": 18,
   "id": "28f678bd",
   "metadata": {},
   "outputs": [],
   "source": [
    "driver = webdriver.Chrome()\n"
   ]
  },
  {
   "cell_type": "code",
   "execution_count": 19,
   "id": "24b40428",
   "metadata": {},
   "outputs": [],
   "source": [
    "driver.get(profile_url.format(username='_loopside'))"
   ]
  },
  {
   "cell_type": "code",
   "execution_count": null,
   "id": "d2bc3f2c",
   "metadata": {},
   "outputs": [],
   "source": []
  },
  {
   "cell_type": "code",
   "execution_count": null,
   "id": "f4e475d4",
   "metadata": {},
   "outputs": [],
   "source": []
  },
  {
   "cell_type": "code",
   "execution_count": 20,
   "id": "d9c3ab15",
   "metadata": {},
   "outputs": [],
   "source": [
    "driver.execute_script(\"window.scrollTo(0, document.body.scrollHeight);\")\n"
   ]
  },
  {
   "cell_type": "code",
   "execution_count": 21,
   "id": "442371bf",
   "metadata": {},
   "outputs": [],
   "source": [
    "post_links = driver.find_elements(By.XPATH, '//a[contains(@href, \"/p/\")]')\n",
    "post_urls = [link.get_attribute('href') for link in post_links]"
   ]
  },
  {
   "cell_type": "code",
   "execution_count": 22,
   "id": "5fb62ba7",
   "metadata": {},
   "outputs": [
    {
     "data": {
      "text/plain": [
       "[]"
      ]
     },
     "execution_count": 22,
     "metadata": {},
     "output_type": "execute_result"
    }
   ],
   "source": [
    "post_links"
   ]
  },
  {
   "cell_type": "code",
   "execution_count": 23,
   "id": "2682914b",
   "metadata": {},
   "outputs": [],
   "source": [
    "comments = []\n",
    "likes = []\n",
    "for post in post_links:\n",
    "    wait.until(EC.presence_of_element_located((By.XPATH, '//a[contains(@href, \"/p/\")]')))  # Wait for a specific element to appear on the page indicating successful login\n",
    "    driver.implicitly_wait(5)\n",
    "    post.click()\n",
    "    wait.until(EC.presence_of_element_located((By.XPATH, '//span[@class=\"x193iq5w xeuugli x1fj9vlw x13faqbe x1vvkbs xt0psk2 x1i0vuye xvs91rp x1s688f x5n08af x10wh9bi x1wdrske x8viiok x18hxmgj\"]')))\n",
    "    likes_element = driver.find_element(By.XPATH, '//span[@class=\"x193iq5w xeuugli x1fj9vlw x13faqbe x1vvkbs xt0psk2 x1i0vuye xvs91rp x1s688f x5n08af x10wh9bi x1wdrske x8viiok x18hxmgj\"]')\n",
    "    driver.implicitly_wait(5)\n",
    "    likes_element.click()\n",
    "    wait.until(EC.presence_of_element_located((By.XPATH, '//span[@class=\"x1lliihq x193iq5w x6ikm8r x10wlt62 xlyipyv xuxw1ft\"]')))  # Wait for a specific element to appear on the page indicating successful login\n",
    "    likes_elements = driver.find_elements(By.XPATH, '//span[@class=\"x1lliihq x193iq5w x6ikm8r x10wlt62 xlyipyv xuxw1ft\"]')\n",
    "    driver.implicitly_wait(5)\n",
    "    likes.append([i.text for i in likes_elements if len(i.text) > 0])\n",
    "    driver.implicitly_wait(5)\n",
    "    close = driver.find_element(By.XPATH, '//div[@class=\"x9f619 xjbqb8w x78zum5 x168nmei x13lgxp2 x5pf9jr xo71vjh x1sxyh0 xurb0ha x1n2onr6 x1plvlek xryxfnj x1c4vz4f x2lah0s xdt5ytf xqjyukv x1qjc9v5 x1oa3qoh x1nhvcw1\"]')\n",
    "    close.click()    \n",
    "#     wait.until(EC.presence_of_element_located((By.XPATH, '//div[@class=\"_a9zs\"]/span')))\n",
    "    comment_elements = driver.find_elements(By.XPATH, '//div[@class=\"_a9zs\"]/span')\n",
    "    comments.append([i.text for i in comment_elements if len(i.text) > 0])\n",
    "    close_button = driver.find_element(By.XPATH, '//div[@class=\"x160vmok x10l6tqk x1eu8d0j x1vjfegm\"]')\n",
    "    close_button.click()\n",
    "    driver.implicitly_wait(5)\n",
    "\n",
    "    "
   ]
  },
  {
   "cell_type": "code",
   "execution_count": 24,
   "id": "1b4d9c4c",
   "metadata": {},
   "outputs": [
    {
     "data": {
      "text/plain": [
       "[]"
      ]
     },
     "execution_count": 24,
     "metadata": {},
     "output_type": "execute_result"
    }
   ],
   "source": [
    "(comments)"
   ]
  },
  {
   "cell_type": "code",
   "execution_count": 25,
   "id": "372c72f8",
   "metadata": {},
   "outputs": [
    {
     "data": {
      "text/plain": [
       "[]"
      ]
     },
     "execution_count": 25,
     "metadata": {},
     "output_type": "execute_result"
    }
   ],
   "source": [
    "(likes)"
   ]
  },
  {
   "cell_type": "code",
   "execution_count": 26,
   "id": "81e9bc43",
   "metadata": {},
   "outputs": [],
   "source": [
    "# driver.quit()\n"
   ]
  },
  {
   "cell_type": "code",
   "execution_count": null,
   "id": "3272f277",
   "metadata": {},
   "outputs": [],
   "source": []
  },
  {
   "cell_type": "code",
   "execution_count": 27,
   "id": "410bbfeb",
   "metadata": {},
   "outputs": [
    {
     "name": "stdout",
     "output_type": "stream",
     "text": [
      "Requirement already satisfied: instagrapi in c:\\python310\\lib\\site-packages (1.17.13)\n",
      "Requirement already satisfied: pycryptodomex==3.18.0 in c:\\python310\\lib\\site-packages (from instagrapi) (3.18.0)\n",
      "Collecting pydantic==1.10.9\n",
      "  Downloading pydantic-1.10.9-cp310-cp310-win_amd64.whl (2.1 MB)\n",
      "     ---------------------------------------- 2.1/2.1 MB 11.7 kB/s eta 0:00:00\n",
      "Requirement already satisfied: requests<3.0,>=2.25.1 in c:\\users\\tsuma thomas\\appdata\\roaming\\python\\python310\\site-packages (from instagrapi) (2.28.1)\n",
      "Requirement already satisfied: PySocks==1.7.1 in c:\\python310\\lib\\site-packages (from instagrapi) (1.7.1)\n",
      "Requirement already satisfied: typing-extensions>=4.2.0 in c:\\users\\tsuma thomas\\appdata\\roaming\\python\\python310\\site-packages (from pydantic==1.10.9->instagrapi) (4.3.0)\n",
      "Requirement already satisfied: charset-normalizer<3,>=2 in c:\\python310\\lib\\site-packages (from requests<3.0,>=2.25.1->instagrapi) (2.1.1)\n",
      "Requirement already satisfied: certifi>=2017.4.17 in c:\\users\\tsuma thomas\\appdata\\roaming\\python\\python310\\site-packages (from requests<3.0,>=2.25.1->instagrapi) (2022.6.15)\n",
      "Requirement already satisfied: urllib3<1.27,>=1.21.1 in c:\\python310\\lib\\site-packages (from requests<3.0,>=2.25.1->instagrapi) (1.26.12)\n",
      "Requirement already satisfied: idna<4,>=2.5 in c:\\users\\tsuma thomas\\appdata\\roaming\\python\\python310\\site-packages (from requests<3.0,>=2.25.1->instagrapi) (3.3)\n",
      "Installing collected packages: pydantic\n",
      "  Attempting uninstall: pydantic\n",
      "    Found existing installation: pydantic 1.10.7\n",
      "    Uninstalling pydantic-1.10.7:\n",
      "      Successfully uninstalled pydantic-1.10.7\n",
      "Successfully installed pydantic-1.10.9\n"
     ]
    },
    {
     "name": "stderr",
     "output_type": "stream",
     "text": [
      "\n",
      "[notice] A new release of pip available: 22.3.1 -> 23.2.1\n",
      "[notice] To update, run: python.exe -m pip install --upgrade pip\n"
     ]
    }
   ],
   "source": [
    "!pip install instagrapi\n"
   ]
  },
  {
   "cell_type": "code",
   "execution_count": 28,
   "id": "fc30b610",
   "metadata": {},
   "outputs": [
    {
     "name": "stdout",
     "output_type": "stream",
     "text": [
      "Unexpected exception formatting exception. Falling back to standard exception\n"
     ]
    },
    {
     "name": "stderr",
     "output_type": "stream",
     "text": [
      "Traceback (most recent call last):\n",
      "  File \"C:\\Python310\\lib\\site-packages\\instagramy\\InstagramUser.py\", line 81, in get_json\n",
      "    html = get(self.url, sessionid=self.sessionid)\n",
      "  File \"C:\\Python310\\lib\\site-packages\\instagramy\\core\\requests.py\", line 22, in get\n",
      "    with urlopen(request) as response:\n",
      "  File \"C:\\Python310\\lib\\urllib\\request.py\", line 216, in urlopen\n",
      "    return opener.open(url, data, timeout)\n",
      "  File \"C:\\Python310\\lib\\urllib\\request.py\", line 525, in open\n",
      "    response = meth(req, response)\n",
      "  File \"C:\\Python310\\lib\\urllib\\request.py\", line 634, in http_response\n",
      "    response = self.parent.error(\n",
      "  File \"C:\\Python310\\lib\\urllib\\request.py\", line 557, in error\n",
      "    result = self._call_chain(*args)\n",
      "  File \"C:\\Python310\\lib\\urllib\\request.py\", line 496, in _call_chain\n",
      "    result = func(*args)\n",
      "  File \"C:\\Python310\\lib\\urllib\\request.py\", line 749, in http_error_302\n",
      "    return self.parent.open(new, timeout=req.timeout)\n",
      "  File \"C:\\Python310\\lib\\urllib\\request.py\", line 525, in open\n",
      "    response = meth(req, response)\n",
      "  File \"C:\\Python310\\lib\\urllib\\request.py\", line 634, in http_response\n",
      "    response = self.parent.error(\n",
      "  File \"C:\\Python310\\lib\\urllib\\request.py\", line 557, in error\n",
      "    result = self._call_chain(*args)\n",
      "  File \"C:\\Python310\\lib\\urllib\\request.py\", line 496, in _call_chain\n",
      "    result = func(*args)\n",
      "  File \"C:\\Python310\\lib\\urllib\\request.py\", line 749, in http_error_302\n",
      "    return self.parent.open(new, timeout=req.timeout)\n",
      "  File \"C:\\Python310\\lib\\urllib\\request.py\", line 525, in open\n",
      "    response = meth(req, response)\n",
      "  File \"C:\\Python310\\lib\\urllib\\request.py\", line 634, in http_response\n",
      "    response = self.parent.error(\n",
      "  File \"C:\\Python310\\lib\\urllib\\request.py\", line 557, in error\n",
      "    result = self._call_chain(*args)\n",
      "  File \"C:\\Python310\\lib\\urllib\\request.py\", line 496, in _call_chain\n",
      "    result = func(*args)\n",
      "  File \"C:\\Python310\\lib\\urllib\\request.py\", line 749, in http_error_302\n",
      "    return self.parent.open(new, timeout=req.timeout)\n",
      "  File \"C:\\Python310\\lib\\urllib\\request.py\", line 525, in open\n",
      "    response = meth(req, response)\n",
      "  File \"C:\\Python310\\lib\\urllib\\request.py\", line 634, in http_response\n",
      "    response = self.parent.error(\n",
      "  File \"C:\\Python310\\lib\\urllib\\request.py\", line 557, in error\n",
      "    result = self._call_chain(*args)\n",
      "  File \"C:\\Python310\\lib\\urllib\\request.py\", line 496, in _call_chain\n",
      "    result = func(*args)\n",
      "  File \"C:\\Python310\\lib\\urllib\\request.py\", line 749, in http_error_302\n",
      "    return self.parent.open(new, timeout=req.timeout)\n",
      "  File \"C:\\Python310\\lib\\urllib\\request.py\", line 525, in open\n",
      "    response = meth(req, response)\n",
      "  File \"C:\\Python310\\lib\\urllib\\request.py\", line 634, in http_response\n",
      "    response = self.parent.error(\n",
      "  File \"C:\\Python310\\lib\\urllib\\request.py\", line 557, in error\n",
      "    result = self._call_chain(*args)\n",
      "  File \"C:\\Python310\\lib\\urllib\\request.py\", line 496, in _call_chain\n",
      "    result = func(*args)\n",
      "  File \"C:\\Python310\\lib\\urllib\\request.py\", line 749, in http_error_302\n",
      "    return self.parent.open(new, timeout=req.timeout)\n",
      "  File \"C:\\Python310\\lib\\urllib\\request.py\", line 525, in open\n",
      "    response = meth(req, response)\n",
      "  File \"C:\\Python310\\lib\\urllib\\request.py\", line 634, in http_response\n",
      "    response = self.parent.error(\n",
      "  File \"C:\\Python310\\lib\\urllib\\request.py\", line 557, in error\n",
      "    result = self._call_chain(*args)\n",
      "  File \"C:\\Python310\\lib\\urllib\\request.py\", line 496, in _call_chain\n",
      "    result = func(*args)\n",
      "  File \"C:\\Python310\\lib\\urllib\\request.py\", line 749, in http_error_302\n",
      "    return self.parent.open(new, timeout=req.timeout)\n",
      "  File \"C:\\Python310\\lib\\urllib\\request.py\", line 525, in open\n",
      "    response = meth(req, response)\n",
      "  File \"C:\\Python310\\lib\\urllib\\request.py\", line 634, in http_response\n",
      "    response = self.parent.error(\n",
      "  File \"C:\\Python310\\lib\\urllib\\request.py\", line 557, in error\n",
      "    result = self._call_chain(*args)\n",
      "  File \"C:\\Python310\\lib\\urllib\\request.py\", line 496, in _call_chain\n",
      "    result = func(*args)\n",
      "  File \"C:\\Python310\\lib\\urllib\\request.py\", line 749, in http_error_302\n",
      "    return self.parent.open(new, timeout=req.timeout)\n",
      "  File \"C:\\Python310\\lib\\urllib\\request.py\", line 525, in open\n",
      "    response = meth(req, response)\n",
      "  File \"C:\\Python310\\lib\\urllib\\request.py\", line 634, in http_response\n",
      "    response = self.parent.error(\n",
      "  File \"C:\\Python310\\lib\\urllib\\request.py\", line 557, in error\n",
      "    result = self._call_chain(*args)\n",
      "  File \"C:\\Python310\\lib\\urllib\\request.py\", line 496, in _call_chain\n",
      "    result = func(*args)\n",
      "  File \"C:\\Python310\\lib\\urllib\\request.py\", line 749, in http_error_302\n",
      "    return self.parent.open(new, timeout=req.timeout)\n",
      "  File \"C:\\Python310\\lib\\urllib\\request.py\", line 525, in open\n",
      "    response = meth(req, response)\n",
      "  File \"C:\\Python310\\lib\\urllib\\request.py\", line 634, in http_response\n",
      "    response = self.parent.error(\n",
      "  File \"C:\\Python310\\lib\\urllib\\request.py\", line 557, in error\n",
      "    result = self._call_chain(*args)\n",
      "  File \"C:\\Python310\\lib\\urllib\\request.py\", line 496, in _call_chain\n",
      "    result = func(*args)\n",
      "  File \"C:\\Python310\\lib\\urllib\\request.py\", line 749, in http_error_302\n",
      "    return self.parent.open(new, timeout=req.timeout)\n",
      "  File \"C:\\Python310\\lib\\urllib\\request.py\", line 525, in open\n",
      "    response = meth(req, response)\n",
      "  File \"C:\\Python310\\lib\\urllib\\request.py\", line 634, in http_response\n",
      "    response = self.parent.error(\n",
      "  File \"C:\\Python310\\lib\\urllib\\request.py\", line 557, in error\n",
      "    result = self._call_chain(*args)\n",
      "  File \"C:\\Python310\\lib\\urllib\\request.py\", line 496, in _call_chain\n",
      "    result = func(*args)\n",
      "  File \"C:\\Python310\\lib\\urllib\\request.py\", line 749, in http_error_302\n",
      "    return self.parent.open(new, timeout=req.timeout)\n",
      "  File \"C:\\Python310\\lib\\urllib\\request.py\", line 525, in open\n",
      "    response = meth(req, response)\n",
      "  File \"C:\\Python310\\lib\\urllib\\request.py\", line 634, in http_response\n",
      "    response = self.parent.error(\n",
      "  File \"C:\\Python310\\lib\\urllib\\request.py\", line 563, in error\n",
      "    return self._call_chain(*args)\n",
      "  File \"C:\\Python310\\lib\\urllib\\request.py\", line 496, in _call_chain\n",
      "    result = func(*args)\n",
      "  File \"C:\\Python310\\lib\\urllib\\request.py\", line 643, in http_error_default\n",
      "    raise HTTPError(req.full_url, code, msg, hdrs, fp)\n",
      "urllib.error.HTTPError: HTTP Error 500: Internal Server Error\n",
      "\n",
      "During handling of the above exception, another exception occurred:\n",
      "\n",
      "Traceback (most recent call last):\n",
      "  File \"C:\\Users\\Tsuma Thomas\\AppData\\Roaming\\Python\\Python310\\site-packages\\IPython\\core\\interactiveshell.py\", line 3398, in run_code\n",
      "    exec(code_obj, self.user_global_ns, self.user_ns)\n",
      "  File \"C:\\Users\\Tsuma Thomas\\AppData\\Local\\Temp\\ipykernel_5284\\499011225.py\", line 3, in <cell line: 3>\n",
      "    user = InstagramUser('lots.of_teddybear.hugs', sessionid=session_id)\n",
      "  File \"C:\\Python310\\lib\\site-packages\\instagramy\\InstagramUser.py\", line 61, in __init__\n",
      "    data = self.get_json()\n",
      "  File \"C:\\Python310\\lib\\site-packages\\instagramy\\InstagramUser.py\", line 83, in get_json\n",
      "    raise UsernameNotFound(self.url.split(\"/\")[-2])\n",
      "instagramy.core.exceptions.UsernameNotFound: InstagramUser('lots.of_teddybear.hugs') not Found\n",
      "\n",
      "During handling of the above exception, another exception occurred:\n",
      "\n",
      "Traceback (most recent call last):\n",
      "  File \"C:\\Users\\Tsuma Thomas\\AppData\\Roaming\\Python\\Python310\\site-packages\\IPython\\core\\interactiveshell.py\", line 1990, in showtraceback\n",
      "    if hasattr(value, \"_render_traceback_\"):\n",
      "  File \"C:\\Python310\\lib\\tempfile.py\", line 477, in __getattr__\n",
      "    file = self.__dict__['file']\n",
      "KeyError: 'file'\n"
     ]
    }
   ],
   "source": [
    "from instagramy import InstagramUser\n",
    "session_id = \"1578677885%3A8hSmOnc5RUvzB3%3A29%3AAYfpIG6gt8lSXzERskE7L2udS1Q0AHA1x6Bihhc5sw\"\n",
    "user = InstagramUser('lots.of_teddybear.hugs', sessionid=session_id)\n",
    "print(user.is_verified)\n",
    "print(user.biography)\n",
    "print(user.user_data) # More data about user as dict"
   ]
  },
  {
   "cell_type": "code",
   "execution_count": null,
   "id": "f98c7e5b",
   "metadata": {},
   "outputs": [],
   "source": []
  },
  {
   "cell_type": "code",
   "execution_count": null,
   "id": "b27ca100",
   "metadata": {},
   "outputs": [],
   "source": [
    "import smtplib\n",
    "from email.mime.multipart import MIMEMultipart\n",
    "from email.mime.text import MIMEText\n",
    "from email.mime.image import MIMEImage\n",
    "from email.mime.base import MIMEBase\n",
    "from email import encoders\n",
    "\n",
    "# Set up the email parameters\n",
    "smtp_server = 'smtp.example.com'\n",
    "smtp_port = 587\n",
    "sender_email = 'tommytsuma7@gmail.com'\n",
    "receiver_email = 'tommytsuma7@gmail.com'\n",
    "subject = 'Your Subject'\n",
    "\n",
    "# Create the email message\n",
    "msg = MIMEMultipart()\n",
    "msg['From'] = sender_email\n",
    "msg['To'] = receiver_email\n",
    "msg['Subject'] = subject\n",
    "\n",
    "# Load the email template\n",
    "with open('beefree-7b5865kbm1h.html', 'r') as f:\n",
    "    template = f.read()\n",
    "\n",
    "# Replace placeholders in the template with actual values\n",
    "# For example, replace {{name}} with the recipient's name\n",
    "template = template.replace('{{name}}', 'John Doe')\n",
    "\n",
    "# Create a MIMEText object with the template content\n",
    "html = MIMEText(template, 'html')\n",
    "\n",
    "# Attach the MIMEText object to the email message\n",
    "msg.attach(html)\n",
    "\n",
    "# Attach an image file, if needed\n",
    "with open('images/bee.png', 'rb') as f:\n",
    "    image = MIMEImage(f.read())\n",
    "    image.add_header('Content-ID', '<image1>')\n",
    "    msg.attach(image)\n",
    "\n",
    "# Attach a file, if needed\n",
    "filename = 'images/bee.png'\n",
    "attachment = open(filename, 'rb')\n",
    "part = MIMEBase('application', 'octet-stream')\n",
    "part.set_payload((attachment).read())\n",
    "encoders.encode_base64(part)\n",
    "part.add_header('Content-Disposition', 'attachment', filename=filename)\n",
    "msg.attach(part)\n",
    "\n",
    "# Connect to the SMTP server and send the email\n",
    "with smtplib.SMTP(smtp_server, smtp_port) as server:\n",
    "    server.starttls()\n",
    "    server.login(sender_email, 'your_password')\n",
    "    server.send_message(msg)\n",
    "    print('Email sent successfully')"
   ]
  },
  {
   "cell_type": "code",
   "execution_count": null,
   "id": "0146f397",
   "metadata": {},
   "outputs": [],
   "source": [
    "import smtplib\n",
    "\n",
    "sender = \"Private Person <mailtrap@coreoutline.com>\"\n",
    "receiver = \"A Test User <tsuma.thomas@coreoutline.com>\"\n",
    "\n",
    "message = f\"\"\"\\\n",
    "Subject: Hi Mailtrap\n",
    "To: {receiver}\n",
    "From: {sender}\n",
    "\n",
    "This is a test e-mail message.\"\"\"\n",
    "\n",
    "with smtplib.SMTP(\"live.smtp.mailtrap.io\", 587) as server:\n",
    "    server.connect(\"live.smtp.mailtrap.io\",587)\n",
    "    server.ehlo()\n",
    "    server.starttls()\n",
    "    server.ehlo()\n",
    "    server.login(\"api\", \"9ca552a70377c7310f430f1e9543ce6d\")\n",
    "    server.sendmail(sender, receiver, message)"
   ]
  },
  {
   "cell_type": "code",
   "execution_count": null,
   "id": "46573733",
   "metadata": {},
   "outputs": [],
   "source": []
  }
 ],
 "metadata": {
  "kernelspec": {
   "display_name": "Python 3 (ipykernel)",
   "language": "python",
   "name": "python3"
  },
  "language_info": {
   "codemirror_mode": {
    "name": "ipython",
    "version": 3
   },
   "file_extension": ".py",
   "mimetype": "text/x-python",
   "name": "python",
   "nbconvert_exporter": "python",
   "pygments_lexer": "ipython3",
   "version": "3.10.7"
  }
 },
 "nbformat": 4,
 "nbformat_minor": 5
}
