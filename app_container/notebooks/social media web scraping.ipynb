{
 "cells": [
  {
   "cell_type": "code",
   "execution_count": null,
   "id": "6fa9f05b",
   "metadata": {},
   "outputs": [],
   "source": [
    "# !pip install selenium --upgrade"
   ]
  },
  {
   "cell_type": "code",
   "execution_count": 17,
   "id": "1202c3a0",
   "metadata": {},
   "outputs": [],
   "source": [
    "from selenium import webdriver\n",
    "from selenium.webdriver.common.keys import Keys\n",
    "from webdriver_manager.chrome import ChromeDriverManager\n",
    "import time\n",
    "from selenium.webdriver.common.by import By\n",
    "import pickle\n",
    "from selenium.webdriver.chrome.options import Options\n",
    "\n",
    "from selenium.webdriver.support.ui import WebDriverWait\n",
    "from selenium.webdriver.support import expected_conditions as EC\n",
    "\n",
    "import pathlib"
   ]
  },
  {
   "cell_type": "code",
   "execution_count": null,
   "id": "7a73232f",
   "metadata": {},
   "outputs": [],
   "source": []
  },
  {
   "cell_type": "code",
   "execution_count": 18,
   "id": "d5d3f813",
   "metadata": {},
   "outputs": [],
   "source": [
    "profile_url = 'https://www.instagram.com/_loopside_'"
   ]
  },
  {
   "cell_type": "code",
   "execution_count": null,
   "id": "923e4120",
   "metadata": {},
   "outputs": [],
   "source": []
  },
  {
   "cell_type": "code",
   "execution_count": 23,
   "id": "a980ae3d",
   "metadata": {},
   "outputs": [],
   "source": []
  },
  {
   "cell_type": "code",
   "execution_count": 25,
   "id": "690b8105",
   "metadata": {},
   "outputs": [],
   "source": [
    "driver = webdriver.Chrome()\n"
   ]
  },
  {
   "cell_type": "code",
   "execution_count": null,
   "id": "8d056070",
   "metadata": {},
   "outputs": [],
   "source": []
  },
  {
   "cell_type": "code",
   "execution_count": null,
   "id": "758ec774",
   "metadata": {},
   "outputs": [],
   "source": []
  },
  {
   "cell_type": "code",
   "execution_count": 26,
   "id": "cb86d6ff",
   "metadata": {},
   "outputs": [],
   "source": [
    "driver.get(profile_url.format(username='_loopside'))"
   ]
  },
  {
   "cell_type": "code",
   "execution_count": null,
   "id": "3a591d2b",
   "metadata": {},
   "outputs": [],
   "source": []
  },
  {
   "cell_type": "code",
   "execution_count": 27,
   "id": "5061cc1b",
   "metadata": {},
   "outputs": [
    {
     "data": {
      "text/plain": [
       "<selenium.webdriver.remote.webelement.WebElement (session=\"2d020131d3f10c1ac7066c89316face4\", element=\"9E0B9056F27C2A34E6BBEFE3EC065C09_element_9\")>"
      ]
     },
     "execution_count": 27,
     "metadata": {},
     "output_type": "execute_result"
    }
   ],
   "source": [
    "wait = WebDriverWait(driver, 10)\n",
    "wait.until(EC.presence_of_element_located((By.LINK_TEXT,'Log In')))  # Wait for a specific element to appear on the page indicating successful login\n"
   ]
  },
  {
   "cell_type": "code",
   "execution_count": 41,
   "id": "afee3537",
   "metadata": {},
   "outputs": [],
   "source": [
    "login_button = driver.find_element(By.LINK_TEXT,'Log In')\n",
    "login_button.click()"
   ]
  },
  {
   "cell_type": "code",
   "execution_count": 42,
   "id": "a0ebf0cb",
   "metadata": {},
   "outputs": [
    {
     "data": {
      "text/plain": [
       "<selenium.webdriver.remote.webelement.WebElement (session=\"2d7fc45cdd850eee73863576de1eda52\", element=\"62C4C64F04BCC83CD339A217DCD376E2_element_12\")>"
      ]
     },
     "execution_count": 42,
     "metadata": {},
     "output_type": "execute_result"
    }
   ],
   "source": [
    "wait = WebDriverWait(driver, 10)\n",
    "wait.until(EC.presence_of_element_located((By.NAME,'username')))  # Wait for a specific element to appear on the page indicating successful login\n"
   ]
  },
  {
   "cell_type": "code",
   "execution_count": 43,
   "id": "a53e2c99",
   "metadata": {},
   "outputs": [],
   "source": [
    "email_input = driver.find_element(By.NAME,'username')\n",
    "email_input.send_keys('lots.of_teddybear.hugs')  # Replace with your Facebook email/username\n"
   ]
  },
  {
   "cell_type": "code",
   "execution_count": 44,
   "id": "2d4df1fa",
   "metadata": {},
   "outputs": [],
   "source": [
    "password_input = driver.find_element(By.NAME,'password')\n",
    "password_input.send_keys('Tobirama1307')  # Replace with your Facebook password"
   ]
  },
  {
   "cell_type": "code",
   "execution_count": 45,
   "id": "fbdc6413",
   "metadata": {},
   "outputs": [],
   "source": [
    "login_button = driver.find_element(By.XPATH, \"//div[text()='Log in']\")\n",
    "login_button.click()"
   ]
  },
  {
   "cell_type": "code",
   "execution_count": 46,
   "id": "0b7fb020",
   "metadata": {},
   "outputs": [
    {
     "data": {
      "text/plain": [
       "<selenium.webdriver.remote.webelement.WebElement (session=\"2d7fc45cdd850eee73863576de1eda52\", element=\"E44C5DEA932787E90AE0A54C08287402_element_23\")>"
      ]
     },
     "execution_count": 46,
     "metadata": {},
     "output_type": "execute_result"
    }
   ],
   "source": [
    "wait = WebDriverWait(driver, 10)\n",
    "wait.until(EC.presence_of_element_located((By.XPATH, \"//div[text()='Not Now']\")))  # Wait for a specific element to appear on the page indicating successful login\n"
   ]
  },
  {
   "cell_type": "code",
   "execution_count": 47,
   "id": "341353e7",
   "metadata": {},
   "outputs": [],
   "source": [
    "save_info_button = driver.find_element(By.XPATH, \"//button[text()='Save Info']\")\n",
    "save_info_button.click()"
   ]
  },
  {
   "cell_type": "code",
   "execution_count": 48,
   "id": "58229e40",
   "metadata": {},
   "outputs": [],
   "source": [
    "cookies = driver.get_cookies()"
   ]
  },
  {
   "cell_type": "code",
   "execution_count": 49,
   "id": "89483f2a",
   "metadata": {},
   "outputs": [],
   "source": [
    "with open('cookies.pkl', 'wb') as f:\n",
    "    pickle.dump(cookies, f)"
   ]
  },
  {
   "cell_type": "code",
   "execution_count": 50,
   "id": "47fb1f8a",
   "metadata": {},
   "outputs": [],
   "source": [
    "with open('cookies.pkl', 'rb') as f:\n",
    "    cookies = pickle.load(f)\n",
    "\n",
    "for cookie in cookies:\n",
    "    driver.add_cookie(cookie)"
   ]
  },
  {
   "cell_type": "code",
   "execution_count": 38,
   "id": "a0aa5f27",
   "metadata": {},
   "outputs": [],
   "source": [
    "driver.quit()"
   ]
  },
  {
   "cell_type": "code",
   "execution_count": 39,
   "id": "28f678bd",
   "metadata": {},
   "outputs": [],
   "source": [
    "driver = webdriver.Chrome()\n"
   ]
  },
  {
   "cell_type": "code",
   "execution_count": 51,
   "id": "24b40428",
   "metadata": {},
   "outputs": [],
   "source": [
    "driver.get(profile_url.format(username='_loopside'))"
   ]
  },
  {
   "cell_type": "code",
   "execution_count": null,
   "id": "d2bc3f2c",
   "metadata": {},
   "outputs": [],
   "source": []
  },
  {
   "cell_type": "code",
   "execution_count": null,
   "id": "f4e475d4",
   "metadata": {},
   "outputs": [],
   "source": []
  },
  {
   "cell_type": "code",
   "execution_count": 52,
   "id": "d9c3ab15",
   "metadata": {},
   "outputs": [],
   "source": [
    "driver.execute_script(\"window.scrollTo(0, document.body.scrollHeight);\")\n"
   ]
  },
  {
   "cell_type": "code",
   "execution_count": 53,
   "id": "442371bf",
   "metadata": {},
   "outputs": [],
   "source": [
    "post_links = driver.find_elements(By.XPATH, '//a[contains(@href, \"/p/\")]')\n",
    "post_urls = [link.get_attribute('href') for link in post_links]"
   ]
  },
  {
   "cell_type": "code",
   "execution_count": 54,
   "id": "5fb62ba7",
   "metadata": {},
   "outputs": [
    {
     "data": {
      "text/plain": [
       "[<selenium.webdriver.remote.webelement.WebElement (session=\"2d7fc45cdd850eee73863576de1eda52\", element=\"5C3FE75C3FEA83ED37266B85E736FB5E_element_51\")>,\n",
       " <selenium.webdriver.remote.webelement.WebElement (session=\"2d7fc45cdd850eee73863576de1eda52\", element=\"5C3FE75C3FEA83ED37266B85E736FB5E_element_52\")>,\n",
       " <selenium.webdriver.remote.webelement.WebElement (session=\"2d7fc45cdd850eee73863576de1eda52\", element=\"5C3FE75C3FEA83ED37266B85E736FB5E_element_53\")>,\n",
       " <selenium.webdriver.remote.webelement.WebElement (session=\"2d7fc45cdd850eee73863576de1eda52\", element=\"5C3FE75C3FEA83ED37266B85E736FB5E_element_54\")>,\n",
       " <selenium.webdriver.remote.webelement.WebElement (session=\"2d7fc45cdd850eee73863576de1eda52\", element=\"5C3FE75C3FEA83ED37266B85E736FB5E_element_55\")>,\n",
       " <selenium.webdriver.remote.webelement.WebElement (session=\"2d7fc45cdd850eee73863576de1eda52\", element=\"5C3FE75C3FEA83ED37266B85E736FB5E_element_56\")>]"
      ]
     },
     "execution_count": 54,
     "metadata": {},
     "output_type": "execute_result"
    }
   ],
   "source": [
    "post_links"
   ]
  },
  {
   "cell_type": "code",
   "execution_count": 62,
   "id": "2682914b",
   "metadata": {},
   "outputs": [],
   "source": [
    "comments = []\n",
    "likes = []\n",
    "for post in post_links:\n",
    "    wait.until(EC.presence_of_element_located((By.XPATH, '//a[contains(@href, \"/p/\")]')))  # Wait for a specific element to appear on the page indicating successful login\n",
    "    driver.implicitly_wait(5)\n",
    "    post.click()\n",
    "    wait.until(EC.presence_of_element_located((By.XPATH, '//span[@class=\"x193iq5w xeuugli x1fj9vlw x13faqbe x1vvkbs xt0psk2 x1i0vuye xvs91rp x1s688f x5n08af x10wh9bi x1wdrske x8viiok x18hxmgj\"]')))\n",
    "    likes_element = driver.find_element(By.XPATH, '//span[@class=\"x193iq5w xeuugli x1fj9vlw x13faqbe x1vvkbs xt0psk2 x1i0vuye xvs91rp x1s688f x5n08af x10wh9bi x1wdrske x8viiok x18hxmgj\"]')\n",
    "    driver.implicitly_wait(5)\n",
    "    likes_element.click()\n",
    "    wait.until(EC.presence_of_element_located((By.XPATH, '//span[@class=\"x1lliihq x193iq5w x6ikm8r x10wlt62 xlyipyv xuxw1ft\"]')))  # Wait for a specific element to appear on the page indicating successful login\n",
    "    likes_elements = driver.find_elements(By.XPATH, '//span[@class=\"x1lliihq x193iq5w x6ikm8r x10wlt62 xlyipyv xuxw1ft\"]')\n",
    "    driver.implicitly_wait(5)\n",
    "    likes.append([i.text for i in likes_elements if len(i.text) > 0])\n",
    "    driver.implicitly_wait(5)\n",
    "    close = driver.find_element(By.XPATH, '//div[@class=\"x9f619 xjbqb8w x78zum5 x168nmei x13lgxp2 x5pf9jr xo71vjh x1sxyh0 xurb0ha x1n2onr6 x1plvlek xryxfnj x1c4vz4f x2lah0s xdt5ytf xqjyukv x1qjc9v5 x1oa3qoh x1nhvcw1\"]')\n",
    "    close.click()    \n",
    "#     wait.until(EC.presence_of_element_located((By.XPATH, '//div[@class=\"_a9zs\"]/span')))\n",
    "    comment_elements = driver.find_elements(By.XPATH, '//div[@class=\"_a9zs\"]/span')\n",
    "    comments.append([i.text for i in comment_elements if len(i.text) > 0])\n",
    "    close_button = driver.find_element(By.XPATH, '//div[@class=\"x160vmok x10l6tqk x1eu8d0j x1vjfegm\"]')\n",
    "    close_button.click()\n",
    "    driver.implicitly_wait(5)\n",
    "\n",
    "    "
   ]
  },
  {
   "cell_type": "code",
   "execution_count": 63,
   "id": "1b4d9c4c",
   "metadata": {},
   "outputs": [
    {
     "data": {
      "text/plain": [
       "[[],\n",
       " [],\n",
       " ['🥰🥰'],\n",
       " [],\n",
       " ['Is crocheting hard? I want a push to eventually give it a chance.'],\n",
       " []]"
      ]
     },
     "execution_count": 63,
     "metadata": {},
     "output_type": "execute_result"
    }
   ],
   "source": [
    "(comments)"
   ]
  },
  {
   "cell_type": "code",
   "execution_count": 64,
   "id": "372c72f8",
   "metadata": {},
   "outputs": [
    {
     "data": {
      "text/plain": [
       "[['Relatable reels',\n",
       "  'itieva_sandi',\n",
       "  'katiba sandi',\n",
       "  '_loopside_',\n",
       "  'buyanzipatience',\n",
       "  'Patience Buyanzi',\n",
       "  'by_ivani_',\n",
       "  'Zera Aneta Studio | Handcrafts',\n",
       "  'cynthierop',\n",
       "  'Chepkemoi Rop',\n",
       "  'bunny.s_wonderland',\n",
       "  'Bunny | Journal',\n",
       "  '_bosita1o1',\n",
       "  'Walubengo_T',\n",
       "  'ray._.marius',\n",
       "  'Ray Marïus',\n",
       "  'pru_2100',\n",
       "  'Wasilwa',\n",
       "  'tajiri_tajiri',\n",
       "  'Tajiri'],\n",
       " ['Relatable reels',\n",
       "  'itieva_sandi',\n",
       "  'katiba sandi',\n",
       "  'buyanzipatience',\n",
       "  'Patience Buyanzi',\n",
       "  'by_ivani_',\n",
       "  'Zera Aneta Studio | Handcrafts'],\n",
       " ['Relatable reels',\n",
       "  'itieva_sandi',\n",
       "  'katiba sandi',\n",
       "  '_loopside_',\n",
       "  'lavine_tsuma',\n",
       "  'Beicky D Zona',\n",
       "  'buyanzipatience',\n",
       "  'Patience Buyanzi',\n",
       "  'cynthierop',\n",
       "  'Chepkemoi Rop',\n",
       "  'diz_wachira',\n",
       "  'Edith 💝',\n",
       "  '_cherono.s',\n",
       "  'Nono',\n",
       "  'perez_njenga',\n",
       "  'Dr. Njenga A. Perez',\n",
       "  'ray._.marius',\n",
       "  'Ray Marïus',\n",
       "  'emaraldgrey',\n",
       "  '🌺🌺 emarald🌺🌺🌺',\n",
       "  'the_waweru',\n",
       "  'Waweru_'],\n",
       " ['Relatable reels',\n",
       "  'itieva_sandi',\n",
       "  'katiba sandi',\n",
       "  '_loopside_',\n",
       "  'lots.of_teddybear.hugs',\n",
       "  'T.loading.....',\n",
       "  'diz_wachira',\n",
       "  'Edith 💝',\n",
       "  '_bosita1o1',\n",
       "  'Walubengo_T',\n",
       "  'ray._.marius',\n",
       "  'Ray Marïus'],\n",
       " ['Relatable reels',\n",
       "  'itieva_sandi',\n",
       "  'katiba sandi',\n",
       "  '_loopside_',\n",
       "  'cynthierop',\n",
       "  'Chepkemoi Rop',\n",
       "  '_cherono.s',\n",
       "  'Nono',\n",
       "  '_bosita1o1',\n",
       "  'Walubengo_T',\n",
       "  'perez_njenga',\n",
       "  'Dr. Njenga A. Perez',\n",
       "  'ray._.marius',\n",
       "  'Ray Marïus',\n",
       "  'jean_rehema',\n",
       "  'Jean R',\n",
       "  'tajiri_tajiri',\n",
       "  'Tajiri',\n",
       "  'nesh_pk',\n",
       "  'Kevin Munene'],\n",
       " ['Relatable reels',\n",
       "  'itieva_sandi',\n",
       "  'katiba sandi',\n",
       "  '_loopside_',\n",
       "  'cynthierop',\n",
       "  'Chepkemoi Rop',\n",
       "  '_cherono.s',\n",
       "  'Nono',\n",
       "  'mwende_njeru',\n",
       "  'norahnjeru',\n",
       "  'ray._.marius',\n",
       "  'Ray Marïus',\n",
       "  'jean_rehema',\n",
       "  'Jean R',\n",
       "  'kis_ess',\n",
       "  'Esther Kisuya']]"
      ]
     },
     "execution_count": 64,
     "metadata": {},
     "output_type": "execute_result"
    }
   ],
   "source": [
    "(likes)"
   ]
  },
  {
   "cell_type": "code",
   "execution_count": null,
   "id": "81e9bc43",
   "metadata": {},
   "outputs": [],
   "source": [
    "# driver.quit()\n"
   ]
  },
  {
   "cell_type": "code",
   "execution_count": null,
   "id": "3272f277",
   "metadata": {},
   "outputs": [],
   "source": []
  },
  {
   "cell_type": "code",
   "execution_count": null,
   "id": "410bbfeb",
   "metadata": {},
   "outputs": [],
   "source": [
    "!pip install instagrapi\n"
   ]
  },
  {
   "cell_type": "code",
   "execution_count": null,
   "id": "fc30b610",
   "metadata": {},
   "outputs": [],
   "source": [
    "from instagramy import InstagramUser\n",
    "session_id = \"1578677885%3A8hSmOnc5RUvzB3%3A29%3AAYfpIG6gt8lSXzERskE7L2udS1Q0AHA1x6Bihhc5sw\"\n",
    "user = InstagramUser('lots.of_teddybear.hugs', sessionid=session_id)\n",
    "print(user.is_verified)\n",
    "print(user.biography)\n",
    "print(user.user_data) # More data about user as dict"
   ]
  },
  {
   "cell_type": "code",
   "execution_count": null,
   "id": "f98c7e5b",
   "metadata": {},
   "outputs": [],
   "source": []
  },
  {
   "cell_type": "code",
   "execution_count": 69,
   "id": "b27ca100",
   "metadata": {},
   "outputs": [
    {
     "ename": "gaierror",
     "evalue": "[Errno 11001] getaddrinfo failed",
     "output_type": "error",
     "traceback": [
      "\u001b[1;31m---------------------------------------------------------------------------\u001b[0m",
      "\u001b[1;31mgaierror\u001b[0m                                  Traceback (most recent call last)",
      "Cell \u001b[1;32mIn[69], line 51\u001b[0m\n\u001b[0;32m     48\u001b[0m msg\u001b[38;5;241m.\u001b[39mattach(part)\n\u001b[0;32m     50\u001b[0m \u001b[38;5;66;03m# Connect to the SMTP server and send the email\u001b[39;00m\n\u001b[1;32m---> 51\u001b[0m \u001b[38;5;28;01mwith\u001b[39;00m \u001b[43msmtplib\u001b[49m\u001b[38;5;241;43m.\u001b[39;49m\u001b[43mSMTP\u001b[49m\u001b[43m(\u001b[49m\u001b[43msmtp_server\u001b[49m\u001b[43m,\u001b[49m\u001b[43m \u001b[49m\u001b[43msmtp_port\u001b[49m\u001b[43m)\u001b[49m \u001b[38;5;28;01mas\u001b[39;00m server:\n\u001b[0;32m     52\u001b[0m     server\u001b[38;5;241m.\u001b[39mstarttls()\n\u001b[0;32m     53\u001b[0m     server\u001b[38;5;241m.\u001b[39mlogin(sender_email, \u001b[38;5;124m'\u001b[39m\u001b[38;5;124myour_password\u001b[39m\u001b[38;5;124m'\u001b[39m)\n",
      "File \u001b[1;32mC:\\Python310\\lib\\smtplib.py:255\u001b[0m, in \u001b[0;36mSMTP.__init__\u001b[1;34m(self, host, port, local_hostname, timeout, source_address)\u001b[0m\n\u001b[0;32m    252\u001b[0m \u001b[38;5;28mself\u001b[39m\u001b[38;5;241m.\u001b[39m_auth_challenge_count \u001b[38;5;241m=\u001b[39m \u001b[38;5;241m0\u001b[39m\n\u001b[0;32m    254\u001b[0m \u001b[38;5;28;01mif\u001b[39;00m host:\n\u001b[1;32m--> 255\u001b[0m     (code, msg) \u001b[38;5;241m=\u001b[39m \u001b[38;5;28;43mself\u001b[39;49m\u001b[38;5;241;43m.\u001b[39;49m\u001b[43mconnect\u001b[49m\u001b[43m(\u001b[49m\u001b[43mhost\u001b[49m\u001b[43m,\u001b[49m\u001b[43m \u001b[49m\u001b[43mport\u001b[49m\u001b[43m)\u001b[49m\n\u001b[0;32m    256\u001b[0m     \u001b[38;5;28;01mif\u001b[39;00m code \u001b[38;5;241m!=\u001b[39m \u001b[38;5;241m220\u001b[39m:\n\u001b[0;32m    257\u001b[0m         \u001b[38;5;28mself\u001b[39m\u001b[38;5;241m.\u001b[39mclose()\n",
      "File \u001b[1;32mC:\\Python310\\lib\\smtplib.py:341\u001b[0m, in \u001b[0;36mSMTP.connect\u001b[1;34m(self, host, port, source_address)\u001b[0m\n\u001b[0;32m    339\u001b[0m     port \u001b[38;5;241m=\u001b[39m \u001b[38;5;28mself\u001b[39m\u001b[38;5;241m.\u001b[39mdefault_port\n\u001b[0;32m    340\u001b[0m sys\u001b[38;5;241m.\u001b[39maudit(\u001b[38;5;124m\"\u001b[39m\u001b[38;5;124msmtplib.connect\u001b[39m\u001b[38;5;124m\"\u001b[39m, \u001b[38;5;28mself\u001b[39m, host, port)\n\u001b[1;32m--> 341\u001b[0m \u001b[38;5;28mself\u001b[39m\u001b[38;5;241m.\u001b[39msock \u001b[38;5;241m=\u001b[39m \u001b[38;5;28;43mself\u001b[39;49m\u001b[38;5;241;43m.\u001b[39;49m\u001b[43m_get_socket\u001b[49m\u001b[43m(\u001b[49m\u001b[43mhost\u001b[49m\u001b[43m,\u001b[49m\u001b[43m \u001b[49m\u001b[43mport\u001b[49m\u001b[43m,\u001b[49m\u001b[43m \u001b[49m\u001b[38;5;28;43mself\u001b[39;49m\u001b[38;5;241;43m.\u001b[39;49m\u001b[43mtimeout\u001b[49m\u001b[43m)\u001b[49m\n\u001b[0;32m    342\u001b[0m \u001b[38;5;28mself\u001b[39m\u001b[38;5;241m.\u001b[39mfile \u001b[38;5;241m=\u001b[39m \u001b[38;5;28;01mNone\u001b[39;00m\n\u001b[0;32m    343\u001b[0m (code, msg) \u001b[38;5;241m=\u001b[39m \u001b[38;5;28mself\u001b[39m\u001b[38;5;241m.\u001b[39mgetreply()\n",
      "File \u001b[1;32mC:\\Python310\\lib\\smtplib.py:312\u001b[0m, in \u001b[0;36mSMTP._get_socket\u001b[1;34m(self, host, port, timeout)\u001b[0m\n\u001b[0;32m    310\u001b[0m \u001b[38;5;28;01mif\u001b[39;00m \u001b[38;5;28mself\u001b[39m\u001b[38;5;241m.\u001b[39mdebuglevel \u001b[38;5;241m>\u001b[39m \u001b[38;5;241m0\u001b[39m:\n\u001b[0;32m    311\u001b[0m     \u001b[38;5;28mself\u001b[39m\u001b[38;5;241m.\u001b[39m_print_debug(\u001b[38;5;124m'\u001b[39m\u001b[38;5;124mconnect: to\u001b[39m\u001b[38;5;124m'\u001b[39m, (host, port), \u001b[38;5;28mself\u001b[39m\u001b[38;5;241m.\u001b[39msource_address)\n\u001b[1;32m--> 312\u001b[0m \u001b[38;5;28;01mreturn\u001b[39;00m \u001b[43msocket\u001b[49m\u001b[38;5;241;43m.\u001b[39;49m\u001b[43mcreate_connection\u001b[49m\u001b[43m(\u001b[49m\u001b[43m(\u001b[49m\u001b[43mhost\u001b[49m\u001b[43m,\u001b[49m\u001b[43m \u001b[49m\u001b[43mport\u001b[49m\u001b[43m)\u001b[49m\u001b[43m,\u001b[49m\u001b[43m \u001b[49m\u001b[43mtimeout\u001b[49m\u001b[43m,\u001b[49m\n\u001b[0;32m    313\u001b[0m \u001b[43m                                \u001b[49m\u001b[38;5;28;43mself\u001b[39;49m\u001b[38;5;241;43m.\u001b[39;49m\u001b[43msource_address\u001b[49m\u001b[43m)\u001b[49m\n",
      "File \u001b[1;32mC:\\Python310\\lib\\socket.py:824\u001b[0m, in \u001b[0;36mcreate_connection\u001b[1;34m(address, timeout, source_address)\u001b[0m\n\u001b[0;32m    822\u001b[0m host, port \u001b[38;5;241m=\u001b[39m address\n\u001b[0;32m    823\u001b[0m err \u001b[38;5;241m=\u001b[39m \u001b[38;5;28;01mNone\u001b[39;00m\n\u001b[1;32m--> 824\u001b[0m \u001b[38;5;28;01mfor\u001b[39;00m res \u001b[38;5;129;01min\u001b[39;00m \u001b[43mgetaddrinfo\u001b[49m\u001b[43m(\u001b[49m\u001b[43mhost\u001b[49m\u001b[43m,\u001b[49m\u001b[43m \u001b[49m\u001b[43mport\u001b[49m\u001b[43m,\u001b[49m\u001b[43m \u001b[49m\u001b[38;5;241;43m0\u001b[39;49m\u001b[43m,\u001b[49m\u001b[43m \u001b[49m\u001b[43mSOCK_STREAM\u001b[49m\u001b[43m)\u001b[49m:\n\u001b[0;32m    825\u001b[0m     af, socktype, proto, canonname, sa \u001b[38;5;241m=\u001b[39m res\n\u001b[0;32m    826\u001b[0m     sock \u001b[38;5;241m=\u001b[39m \u001b[38;5;28;01mNone\u001b[39;00m\n",
      "File \u001b[1;32mC:\\Python310\\lib\\socket.py:955\u001b[0m, in \u001b[0;36mgetaddrinfo\u001b[1;34m(host, port, family, type, proto, flags)\u001b[0m\n\u001b[0;32m    952\u001b[0m \u001b[38;5;66;03m# We override this function since we want to translate the numeric family\u001b[39;00m\n\u001b[0;32m    953\u001b[0m \u001b[38;5;66;03m# and socket type values to enum constants.\u001b[39;00m\n\u001b[0;32m    954\u001b[0m addrlist \u001b[38;5;241m=\u001b[39m []\n\u001b[1;32m--> 955\u001b[0m \u001b[38;5;28;01mfor\u001b[39;00m res \u001b[38;5;129;01min\u001b[39;00m \u001b[43m_socket\u001b[49m\u001b[38;5;241;43m.\u001b[39;49m\u001b[43mgetaddrinfo\u001b[49m\u001b[43m(\u001b[49m\u001b[43mhost\u001b[49m\u001b[43m,\u001b[49m\u001b[43m \u001b[49m\u001b[43mport\u001b[49m\u001b[43m,\u001b[49m\u001b[43m \u001b[49m\u001b[43mfamily\u001b[49m\u001b[43m,\u001b[49m\u001b[43m \u001b[49m\u001b[38;5;28;43mtype\u001b[39;49m\u001b[43m,\u001b[49m\u001b[43m \u001b[49m\u001b[43mproto\u001b[49m\u001b[43m,\u001b[49m\u001b[43m \u001b[49m\u001b[43mflags\u001b[49m\u001b[43m)\u001b[49m:\n\u001b[0;32m    956\u001b[0m     af, socktype, proto, canonname, sa \u001b[38;5;241m=\u001b[39m res\n\u001b[0;32m    957\u001b[0m     addrlist\u001b[38;5;241m.\u001b[39mappend((_intenum_converter(af, AddressFamily),\n\u001b[0;32m    958\u001b[0m                      _intenum_converter(socktype, SocketKind),\n\u001b[0;32m    959\u001b[0m                      proto, canonname, sa))\n",
      "\u001b[1;31mgaierror\u001b[0m: [Errno 11001] getaddrinfo failed"
     ]
    }
   ],
   "source": [
    "import smtplib\n",
    "from email.mime.multipart import MIMEMultipart\n",
    "from email.mime.text import MIMEText\n",
    "from email.mime.image import MIMEImage\n",
    "from email.mime.base import MIMEBase\n",
    "from email import encoders\n",
    "\n",
    "# Set up the email parameters\n",
    "smtp_server = 'smtp.example.com'\n",
    "smtp_port = 587\n",
    "sender_email = 'tommytsuma7@gmail.com'\n",
    "receiver_email = 'tommytsuma7@gmail.com'\n",
    "subject = 'Your Subject'\n",
    "\n",
    "# Create the email message\n",
    "msg = MIMEMultipart()\n",
    "msg['From'] = sender_email\n",
    "msg['To'] = receiver_email\n",
    "msg['Subject'] = subject\n",
    "\n",
    "# Load the email template\n",
    "with open('beefree-7b5865kbm1h.html', 'r') as f:\n",
    "    template = f.read()\n",
    "\n",
    "# Replace placeholders in the template with actual values\n",
    "# For example, replace {{name}} with the recipient's name\n",
    "template = template.replace('{{name}}', 'John Doe')\n",
    "\n",
    "# Create a MIMEText object with the template content\n",
    "html = MIMEText(template, 'html')\n",
    "\n",
    "# Attach the MIMEText object to the email message\n",
    "msg.attach(html)\n",
    "\n",
    "# Attach an image file, if needed\n",
    "with open('images/bee.png', 'rb') as f:\n",
    "    image = MIMEImage(f.read())\n",
    "    image.add_header('Content-ID', '<image1>')\n",
    "    msg.attach(image)\n",
    "\n",
    "# Attach a file, if needed\n",
    "filename = 'images/bee.png'\n",
    "attachment = open(filename, 'rb')\n",
    "part = MIMEBase('application', 'octet-stream')\n",
    "part.set_payload((attachment).read())\n",
    "encoders.encode_base64(part)\n",
    "part.add_header('Content-Disposition', 'attachment', filename=filename)\n",
    "msg.attach(part)\n",
    "\n",
    "# Connect to the SMTP server and send the email\n",
    "with smtplib.SMTP(smtp_server, smtp_port) as server:\n",
    "    server.starttls()\n",
    "    server.login(sender_email, 'your_password')\n",
    "    server.send_message(msg)\n",
    "    print('Email sent successfully')"
   ]
  },
  {
   "cell_type": "code",
   "execution_count": 78,
   "id": "0146f397",
   "metadata": {},
   "outputs": [
    {
     "ename": "SMTPDataError",
     "evalue": "(550, b'5.7.1 Security check pending. Mailtrap is checking your domain credibility, it usually takes one business day.')",
     "output_type": "error",
     "traceback": [
      "\u001b[1;31m---------------------------------------------------------------------------\u001b[0m",
      "\u001b[1;31mSMTPDataError\u001b[0m                             Traceback (most recent call last)",
      "Cell \u001b[1;32mIn[78], line 19\u001b[0m\n\u001b[0;32m     17\u001b[0m server\u001b[38;5;241m.\u001b[39mehlo()\n\u001b[0;32m     18\u001b[0m server\u001b[38;5;241m.\u001b[39mlogin(\u001b[38;5;124m\"\u001b[39m\u001b[38;5;124mapi\u001b[39m\u001b[38;5;124m\"\u001b[39m, \u001b[38;5;124m\"\u001b[39m\u001b[38;5;124m9ca552a70377c7310f430f1e9543ce6d\u001b[39m\u001b[38;5;124m\"\u001b[39m)\n\u001b[1;32m---> 19\u001b[0m \u001b[43mserver\u001b[49m\u001b[38;5;241;43m.\u001b[39;49m\u001b[43msendmail\u001b[49m\u001b[43m(\u001b[49m\u001b[43msender\u001b[49m\u001b[43m,\u001b[49m\u001b[43m \u001b[49m\u001b[43mreceiver\u001b[49m\u001b[43m,\u001b[49m\u001b[43m \u001b[49m\u001b[43mmessage\u001b[49m\u001b[43m)\u001b[49m\n",
      "File \u001b[1;32mC:\\Python310\\lib\\smtplib.py:908\u001b[0m, in \u001b[0;36mSMTP.sendmail\u001b[1;34m(self, from_addr, to_addrs, msg, mail_options, rcpt_options)\u001b[0m\n\u001b[0;32m    906\u001b[0m     \u001b[38;5;28;01melse\u001b[39;00m:\n\u001b[0;32m    907\u001b[0m         \u001b[38;5;28mself\u001b[39m\u001b[38;5;241m.\u001b[39m_rset()\n\u001b[1;32m--> 908\u001b[0m     \u001b[38;5;28;01mraise\u001b[39;00m SMTPDataError(code, resp)\n\u001b[0;32m    909\u001b[0m \u001b[38;5;66;03m#if we got here then somebody got our mail\u001b[39;00m\n\u001b[0;32m    910\u001b[0m \u001b[38;5;28;01mreturn\u001b[39;00m senderrs\n",
      "\u001b[1;31mSMTPDataError\u001b[0m: (550, b'5.7.1 Security check pending. Mailtrap is checking your domain credibility, it usually takes one business day.')"
     ]
    }
   ],
   "source": [
    "import smtplib\n",
    "\n",
    "sender = \"Private Person <mailtrap@coreoutline.com>\"\n",
    "receiver = \"A Test User <tsuma.thomas@coreoutline.com>\"\n",
    "\n",
    "message = f\"\"\"\\\n",
    "Subject: Hi Mailtrap\n",
    "To: {receiver}\n",
    "From: {sender}\n",
    "\n",
    "This is a test e-mail message.\"\"\"\n",
    "\n",
    "with smtplib.SMTP(\"live.smtp.mailtrap.io\", 587) as server:\n",
    "    server.connect(\"live.smtp.mailtrap.io\",587)\n",
    "    server.ehlo()\n",
    "    server.starttls()\n",
    "    server.ehlo()\n",
    "    server.login(\"api\", \"9ca552a70377c7310f430f1e9543ce6d\")\n",
    "    server.sendmail(sender, receiver, message)"
   ]
  },
  {
   "cell_type": "code",
   "execution_count": null,
   "id": "46573733",
   "metadata": {},
   "outputs": [],
   "source": []
  }
 ],
 "metadata": {
  "kernelspec": {
   "display_name": "Python 3 (ipykernel)",
   "language": "python",
   "name": "python3"
  },
  "language_info": {
   "codemirror_mode": {
    "name": "ipython",
    "version": 3
   },
   "file_extension": ".py",
   "mimetype": "text/x-python",
   "name": "python",
   "nbconvert_exporter": "python",
   "pygments_lexer": "ipython3",
   "version": "3.10.7"
  }
 },
 "nbformat": 4,
 "nbformat_minor": 5
}
