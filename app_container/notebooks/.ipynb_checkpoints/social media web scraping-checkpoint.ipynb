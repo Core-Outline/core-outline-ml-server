{
 "cells": [
  {
   "cell_type": "code",
   "execution_count": null,
   "id": "6fa9f05b",
   "metadata": {},
   "outputs": [],
   "source": [
    "!pip install selenium --upgrade"
   ]
  },
  {
   "cell_type": "code",
   "execution_count": 97,
   "id": "1202c3a0",
   "metadata": {},
   "outputs": [],
   "source": [
    "from selenium import webdriver\n",
    "from selenium.webdriver.common.keys import Keys\n",
    "from webdriver_manager.chrome import ChromeDriverManager\n",
    "import time\n",
    "from selenium.webdriver.common.by import By\n",
    "\n",
    "from selenium.webdriver.support.ui import WebDriverWait\n",
    "from selenium.webdriver.support import expected_conditions as EC"
   ]
  },
  {
   "cell_type": "code",
   "execution_count": null,
   "id": "7a73232f",
   "metadata": {},
   "outputs": [],
   "source": []
  },
  {
   "cell_type": "code",
   "execution_count": 98,
   "id": "d5d3f813",
   "metadata": {},
   "outputs": [],
   "source": [
    "profile_url = 'https://www.instagram.com/lots.of_teddybear.hugs'"
   ]
  },
  {
   "cell_type": "code",
   "execution_count": null,
   "id": "a980ae3d",
   "metadata": {},
   "outputs": [],
   "source": []
  },
  {
   "cell_type": "code",
   "execution_count": 99,
   "id": "690b8105",
   "metadata": {},
   "outputs": [],
   "source": [
    "driver = webdriver.Chrome()"
   ]
  },
  {
   "cell_type": "code",
   "execution_count": 100,
   "id": "cb86d6ff",
   "metadata": {},
   "outputs": [],
   "source": [
    "driver.get(profile_url.format(username='lots.of_teddybear.hugs'))"
   ]
  },
  {
   "cell_type": "code",
   "execution_count": 101,
   "id": "949c7ecc",
   "metadata": {},
   "outputs": [
    {
     "data": {
      "text/plain": [
       "<selenium.webdriver.remote.webelement.WebElement (session=\"cc37af6edc136dcfc7e8884f2781df43\", element=\"21D2A5D25D411F0D63B9BBC612596A27_element_6\")>"
      ]
     },
     "execution_count": 101,
     "metadata": {},
     "output_type": "execute_result"
    }
   ],
   "source": [
    "wait = WebDriverWait(driver, 10)\n",
    "wait.until(EC.presence_of_element_located((By.LINK_TEXT,'Log In')))  # Wait for a specific element to appear on the page indicating successful login\n"
   ]
  },
  {
   "cell_type": "code",
   "execution_count": 102,
   "id": "afee3537",
   "metadata": {},
   "outputs": [],
   "source": [
    "login_button = driver.find_element(By.LINK_TEXT,'Log In')\n",
    "login_button.click()"
   ]
  },
  {
   "cell_type": "code",
   "execution_count": 103,
   "id": "a0ebf0cb",
   "metadata": {},
   "outputs": [
    {
     "data": {
      "text/plain": [
       "<selenium.webdriver.remote.webelement.WebElement (session=\"cc37af6edc136dcfc7e8884f2781df43\", element=\"21D2A5D25D411F0D63B9BBC612596A27_element_12\")>"
      ]
     },
     "execution_count": 103,
     "metadata": {},
     "output_type": "execute_result"
    }
   ],
   "source": [
    "wait = WebDriverWait(driver, 10)\n",
    "wait.until(EC.presence_of_element_located((By.NAME,'username')))  # Wait for a specific element to appear on the page indicating successful login\n"
   ]
  },
  {
   "cell_type": "code",
   "execution_count": 104,
   "id": "a53e2c99",
   "metadata": {},
   "outputs": [],
   "source": [
    "email_input = driver.find_element(By.NAME,'username')\n",
    "email_input.send_keys('Rydr_Africa')  # Replace with your Facebook email/username\n"
   ]
  },
  {
   "cell_type": "code",
   "execution_count": 105,
   "id": "2d4df1fa",
   "metadata": {},
   "outputs": [],
   "source": [
    "password_input = driver.find_element(By.NAME,'password')\n",
    "password_input.send_keys('Rydr@Africa@254')  # Replace with your Facebook password"
   ]
  },
  {
   "cell_type": "code",
   "execution_count": 106,
   "id": "fbdc6413",
   "metadata": {},
   "outputs": [],
   "source": [
    "login_button = driver.find_element(By.XPATH, \"//div[text()='Log in']\")\n",
    "login_button.click()"
   ]
  },
  {
   "cell_type": "code",
   "execution_count": 107,
   "id": "119cb399",
   "metadata": {},
   "outputs": [
    {
     "data": {
      "text/plain": [
       "<selenium.webdriver.remote.webelement.WebElement (session=\"cc37af6edc136dcfc7e8884f2781df43\", element=\"60D2E027D761F14524E56099839996AC_element_23\")>"
      ]
     },
     "execution_count": 107,
     "metadata": {},
     "output_type": "execute_result"
    }
   ],
   "source": [
    "wait = WebDriverWait(driver, 10)\n",
    "wait.until(EC.presence_of_element_located((By.XPATH, \"//div[text()='Not Now']\")))  # Wait for a specific element to appear on the page indicating successful login\n"
   ]
  },
  {
   "cell_type": "code",
   "execution_count": 108,
   "id": "341353e7",
   "metadata": {},
   "outputs": [],
   "source": [
    "not_now_button = driver.find_element(By.XPATH, \"//div[text()='Not Now']\")\n",
    "not_now_button.click()"
   ]
  },
  {
   "cell_type": "code",
   "execution_count": 109,
   "id": "d9c3ab15",
   "metadata": {},
   "outputs": [],
   "source": [
    "driver.execute_script(\"window.scrollTo(0, document.body.scrollHeight);\")\n"
   ]
  },
  {
   "cell_type": "code",
   "execution_count": 116,
   "id": "442371bf",
   "metadata": {},
   "outputs": [],
   "source": [
    "post_links = driver.find_elements(By.XPATH, '//a[contains(@href, \"/p/\")]')\n",
    "post_urls = [link.get_attribute('href') for link in post_links]"
   ]
  },
  {
   "cell_type": "code",
   "execution_count": 117,
   "id": "5fb62ba7",
   "metadata": {},
   "outputs": [
    {
     "data": {
      "text/plain": [
       "[<selenium.webdriver.remote.webelement.WebElement (session=\"cc37af6edc136dcfc7e8884f2781df43\", element=\"BF46578C5E3E4B4B17A2EB12E38B0FE7_element_735\")>,\n",
       " <selenium.webdriver.remote.webelement.WebElement (session=\"cc37af6edc136dcfc7e8884f2781df43\", element=\"BF46578C5E3E4B4B17A2EB12E38B0FE7_element_736\")>,\n",
       " <selenium.webdriver.remote.webelement.WebElement (session=\"cc37af6edc136dcfc7e8884f2781df43\", element=\"BF46578C5E3E4B4B17A2EB12E38B0FE7_element_737\")>,\n",
       " <selenium.webdriver.remote.webelement.WebElement (session=\"cc37af6edc136dcfc7e8884f2781df43\", element=\"BF46578C5E3E4B4B17A2EB12E38B0FE7_element_738\")>,\n",
       " <selenium.webdriver.remote.webelement.WebElement (session=\"cc37af6edc136dcfc7e8884f2781df43\", element=\"BF46578C5E3E4B4B17A2EB12E38B0FE7_element_739\")>,\n",
       " <selenium.webdriver.remote.webelement.WebElement (session=\"cc37af6edc136dcfc7e8884f2781df43\", element=\"BF46578C5E3E4B4B17A2EB12E38B0FE7_element_740\")>,\n",
       " <selenium.webdriver.remote.webelement.WebElement (session=\"cc37af6edc136dcfc7e8884f2781df43\", element=\"BF46578C5E3E4B4B17A2EB12E38B0FE7_element_741\")>,\n",
       " <selenium.webdriver.remote.webelement.WebElement (session=\"cc37af6edc136dcfc7e8884f2781df43\", element=\"BF46578C5E3E4B4B17A2EB12E38B0FE7_element_742\")>,\n",
       " <selenium.webdriver.remote.webelement.WebElement (session=\"cc37af6edc136dcfc7e8884f2781df43\", element=\"BF46578C5E3E4B4B17A2EB12E38B0FE7_element_743\")>,\n",
       " <selenium.webdriver.remote.webelement.WebElement (session=\"cc37af6edc136dcfc7e8884f2781df43\", element=\"BF46578C5E3E4B4B17A2EB12E38B0FE7_element_744\")>,\n",
       " <selenium.webdriver.remote.webelement.WebElement (session=\"cc37af6edc136dcfc7e8884f2781df43\", element=\"BF46578C5E3E4B4B17A2EB12E38B0FE7_element_745\")>,\n",
       " <selenium.webdriver.remote.webelement.WebElement (session=\"cc37af6edc136dcfc7e8884f2781df43\", element=\"BF46578C5E3E4B4B17A2EB12E38B0FE7_element_746\")>,\n",
       " <selenium.webdriver.remote.webelement.WebElement (session=\"cc37af6edc136dcfc7e8884f2781df43\", element=\"BF46578C5E3E4B4B17A2EB12E38B0FE7_element_747\")>,\n",
       " <selenium.webdriver.remote.webelement.WebElement (session=\"cc37af6edc136dcfc7e8884f2781df43\", element=\"BF46578C5E3E4B4B17A2EB12E38B0FE7_element_748\")>,\n",
       " <selenium.webdriver.remote.webelement.WebElement (session=\"cc37af6edc136dcfc7e8884f2781df43\", element=\"BF46578C5E3E4B4B17A2EB12E38B0FE7_element_749\")>]"
      ]
     },
     "execution_count": 117,
     "metadata": {},
     "output_type": "execute_result"
    }
   ],
   "source": [
    "post_links"
   ]
  },
  {
   "cell_type": "code",
   "execution_count": 150,
   "id": "2682914b",
   "metadata": {},
   "outputs": [
    {
     "name": "stdout",
     "output_type": "stream",
     "text": [
      "\n"
     ]
    },
    {
     "ename": "TimeoutException",
     "evalue": "Message: \nStacktrace:\nBacktrace:\n\tGetHandleVerifier [0x0052A813+48355]\n\t(No symbol) [0x004BC4B1]\n\t(No symbol) [0x003C5358]\n\t(No symbol) [0x003F09A5]\n\t(No symbol) [0x003F0B3B]\n\t(No symbol) [0x0041E232]\n\t(No symbol) [0x0040A784]\n\t(No symbol) [0x0041C922]\n\t(No symbol) [0x0040A536]\n\t(No symbol) [0x003E82DC]\n\t(No symbol) [0x003E93DD]\n\tGetHandleVerifier [0x0078AABD+2539405]\n\tGetHandleVerifier [0x007CA78F+2800735]\n\tGetHandleVerifier [0x007C456C+2775612]\n\tGetHandleVerifier [0x005B51E0+616112]\n\t(No symbol) [0x004C5F8C]\n\t(No symbol) [0x004C2328]\n\t(No symbol) [0x004C240B]\n\t(No symbol) [0x004B4FF7]\n\tBaseThreadInitThunk [0x77966BA9+25]\n\tRtlGetFullPathName_UEx [0x77C68F9F+1215]\n\tRtlGetFullPathName_UEx [0x77C68F6D+1165]\n",
     "output_type": "error",
     "traceback": [
      "\u001b[1;31m---------------------------------------------------------------------------\u001b[0m",
      "\u001b[1;31mTimeoutException\u001b[0m                          Traceback (most recent call last)",
      "Cell \u001b[1;32mIn[150], line 19\u001b[0m\n\u001b[0;32m     17\u001b[0m close \u001b[38;5;241m=\u001b[39m driver\u001b[38;5;241m.\u001b[39mfind_element(By\u001b[38;5;241m.\u001b[39mXPATH, \u001b[38;5;124m'\u001b[39m\u001b[38;5;124m//div[@class=\u001b[39m\u001b[38;5;124m\"\u001b[39m\u001b[38;5;124mx9f619 xjbqb8w x78zum5 x168nmei x13lgxp2 x5pf9jr xo71vjh x1sxyh0 xurb0ha x1n2onr6 x1plvlek xryxfnj x1c4vz4f x2lah0s xdt5ytf xqjyukv x1qjc9v5 x1oa3qoh x1nhvcw1\u001b[39m\u001b[38;5;124m\"\u001b[39m\u001b[38;5;124m]\u001b[39m\u001b[38;5;124m'\u001b[39m)\n\u001b[0;32m     18\u001b[0m close\u001b[38;5;241m.\u001b[39mclick()    \n\u001b[1;32m---> 19\u001b[0m \u001b[43mwait\u001b[49m\u001b[38;5;241;43m.\u001b[39;49m\u001b[43muntil\u001b[49m\u001b[43m(\u001b[49m\u001b[43mEC\u001b[49m\u001b[38;5;241;43m.\u001b[39;49m\u001b[43mpresence_of_element_located\u001b[49m\u001b[43m(\u001b[49m\u001b[43m(\u001b[49m\u001b[43mBy\u001b[49m\u001b[38;5;241;43m.\u001b[39;49m\u001b[43mXPATH\u001b[49m\u001b[43m,\u001b[49m\u001b[43m \u001b[49m\u001b[38;5;124;43m'\u001b[39;49m\u001b[38;5;124;43m//div[@class=\u001b[39;49m\u001b[38;5;124;43m\"\u001b[39;49m\u001b[38;5;124;43m_a9zs\u001b[39;49m\u001b[38;5;124;43m\"\u001b[39;49m\u001b[38;5;124;43m]/span\u001b[39;49m\u001b[38;5;124;43m'\u001b[39;49m\u001b[43m)\u001b[49m\u001b[43m)\u001b[49m\u001b[43m)\u001b[49m\n\u001b[0;32m     20\u001b[0m comment_elements \u001b[38;5;241m=\u001b[39m driver\u001b[38;5;241m.\u001b[39mfind_elements(By\u001b[38;5;241m.\u001b[39mXPATH, \u001b[38;5;124m'\u001b[39m\u001b[38;5;124m//div[@class=\u001b[39m\u001b[38;5;124m\"\u001b[39m\u001b[38;5;124m_a9zs\u001b[39m\u001b[38;5;124m\"\u001b[39m\u001b[38;5;124m]/span\u001b[39m\u001b[38;5;124m'\u001b[39m)\n\u001b[0;32m     21\u001b[0m comments\u001b[38;5;241m.\u001b[39mappend([i\u001b[38;5;241m.\u001b[39mtext \u001b[38;5;28;01mfor\u001b[39;00m i \u001b[38;5;129;01min\u001b[39;00m comment_elements])\n",
      "File \u001b[1;32mC:\\Python310\\lib\\site-packages\\selenium\\webdriver\\support\\wait.py:95\u001b[0m, in \u001b[0;36mWebDriverWait.until\u001b[1;34m(self, method, message)\u001b[0m\n\u001b[0;32m     93\u001b[0m     \u001b[38;5;28;01mif\u001b[39;00m time\u001b[38;5;241m.\u001b[39mmonotonic() \u001b[38;5;241m>\u001b[39m end_time:\n\u001b[0;32m     94\u001b[0m         \u001b[38;5;28;01mbreak\u001b[39;00m\n\u001b[1;32m---> 95\u001b[0m \u001b[38;5;28;01mraise\u001b[39;00m TimeoutException(message, screen, stacktrace)\n",
      "\u001b[1;31mTimeoutException\u001b[0m: Message: \nStacktrace:\nBacktrace:\n\tGetHandleVerifier [0x0052A813+48355]\n\t(No symbol) [0x004BC4B1]\n\t(No symbol) [0x003C5358]\n\t(No symbol) [0x003F09A5]\n\t(No symbol) [0x003F0B3B]\n\t(No symbol) [0x0041E232]\n\t(No symbol) [0x0040A784]\n\t(No symbol) [0x0041C922]\n\t(No symbol) [0x0040A536]\n\t(No symbol) [0x003E82DC]\n\t(No symbol) [0x003E93DD]\n\tGetHandleVerifier [0x0078AABD+2539405]\n\tGetHandleVerifier [0x007CA78F+2800735]\n\tGetHandleVerifier [0x007C456C+2775612]\n\tGetHandleVerifier [0x005B51E0+616112]\n\t(No symbol) [0x004C5F8C]\n\t(No symbol) [0x004C2328]\n\t(No symbol) [0x004C240B]\n\t(No symbol) [0x004B4FF7]\n\tBaseThreadInitThunk [0x77966BA9+25]\n\tRtlGetFullPathName_UEx [0x77C68F9F+1215]\n\tRtlGetFullPathName_UEx [0x77C68F6D+1165]\n"
     ]
    }
   ],
   "source": [
    "comments = []\n",
    "likes = []\n",
    "for post in post_links:\n",
    "    driver.implicitly_wait(5)\n",
    "    post.click()\n",
    "    wait.until(EC.presence_of_element_located((By.XPATH, '//span[@class=\"x193iq5w xeuugli x1fj9vlw x13faqbe x1vvkbs xt0psk2 x1i0vuye xvs91rp x1s688f x5n08af x10wh9bi x1wdrske x8viiok x18hxmgj\"]')))\n",
    "    likes_element = driver.find_element(By.XPATH, '//span[@class=\"x193iq5w xeuugli x1fj9vlw x13faqbe x1vvkbs xt0psk2 x1i0vuye xvs91rp x1s688f x5n08af x10wh9bi x1wdrske x8viiok x18hxmgj\"]')\n",
    "    likes_element.click()\n",
    "    wait.until(EC.presence_of_element_located((By.XPATH, '//span[@class=\"x1lliihq x193iq5w x6ikm8r x10wlt62 xlyipyv xuxw1ft\"]')))  # Wait for a specific element to appear on the page indicating successful login\n",
    "    likes_elements = driver.find_elements(By.XPATH, '//span[@class=\"x1lliihq x193iq5w x6ikm8r x10wlt62 xlyipyv xuxw1ft\"]')\n",
    "    driver.implicitly_wait(5)\n",
    "    try:\n",
    "        likes.append([i.text for i in likes_elements][1:])\n",
    "    except Exception as e:\n",
    "        print('')\n",
    "    driver.implicitly_wait(5)\n",
    "    close = driver.find_element(By.XPATH, '//div[@class=\"x9f619 xjbqb8w x78zum5 x168nmei x13lgxp2 x5pf9jr xo71vjh x1sxyh0 xurb0ha x1n2onr6 x1plvlek xryxfnj x1c4vz4f x2lah0s xdt5ytf xqjyukv x1qjc9v5 x1oa3qoh x1nhvcw1\"]')\n",
    "    close.click()    \n",
    "#     wait.until(EC.presence_of_element_located((By.XPATH, '//div[@class=\"_a9zs\"]/span')))\n",
    "    comment_elements = driver.find_elements(By.XPATH, '//div[@class=\"_a9zs\"]/span')\n",
    "    comments.append([i.text for i in comment_elements])\n",
    "    close_button = driver.find_element(By.XPATH, '//div[@class=\"x160vmok x10l6tqk x1eu8d0j x1vjfegm\"]')\n",
    "    close_button.click()\n",
    "    driver.implicitly_wait(5)\n",
    "\n",
    "    "
   ]
  },
  {
   "cell_type": "code",
   "execution_count": 145,
   "id": "1b4d9c4c",
   "metadata": {},
   "outputs": [
    {
     "data": {
      "text/plain": [
       "9"
      ]
     },
     "execution_count": 145,
     "metadata": {},
     "output_type": "execute_result"
    }
   ],
   "source": [
    "len(comments)"
   ]
  },
  {
   "cell_type": "code",
   "execution_count": 146,
   "id": "390d9133",
   "metadata": {},
   "outputs": [
    {
     "data": {
      "text/plain": [
       "5"
      ]
     },
     "execution_count": 146,
     "metadata": {},
     "output_type": "execute_result"
    }
   ],
   "source": [
    "len(likes)"
   ]
  },
  {
   "cell_type": "code",
   "execution_count": null,
   "id": "6bc36eaf",
   "metadata": {},
   "outputs": [],
   "source": []
  },
  {
   "cell_type": "code",
   "execution_count": null,
   "id": "e0bef018",
   "metadata": {},
   "outputs": [],
   "source": []
  },
  {
   "cell_type": "code",
   "execution_count": null,
   "id": "68e345fe",
   "metadata": {},
   "outputs": [],
   "source": []
  },
  {
   "cell_type": "code",
   "execution_count": null,
   "id": "69b3274b",
   "metadata": {},
   "outputs": [],
   "source": []
  },
  {
   "cell_type": "code",
   "execution_count": null,
   "id": "c1da9e09",
   "metadata": {},
   "outputs": [],
   "source": []
  },
  {
   "cell_type": "code",
   "execution_count": null,
   "id": "933a6502",
   "metadata": {},
   "outputs": [],
   "source": []
  },
  {
   "cell_type": "code",
   "execution_count": null,
   "id": "3319ef2e",
   "metadata": {},
   "outputs": [],
   "source": []
  }
 ],
 "metadata": {
  "kernelspec": {
   "display_name": "Python 3 (ipykernel)",
   "language": "python",
   "name": "python3"
  },
  "language_info": {
   "codemirror_mode": {
    "name": "ipython",
    "version": 3
   },
   "file_extension": ".py",
   "mimetype": "text/x-python",
   "name": "python",
   "nbconvert_exporter": "python",
   "pygments_lexer": "ipython3",
   "version": "3.10.7"
  }
 },
 "nbformat": 4,
 "nbformat_minor": 5
}
