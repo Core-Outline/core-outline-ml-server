{
 "cells": [
  {
   "cell_type": "code",
   "execution_count": 2,
   "id": "cb75cc9b",
   "metadata": {},
   "outputs": [],
   "source": [
    "from prometheus_api_client import PrometheusConnect\n",
    "\n",
    "# Specify the Prometheus server URL\n",
    "prometheus_url = \"http://13.37.61.181:9090/\""
   ]
  },
  {
   "cell_type": "code",
   "execution_count": 4,
   "id": "7146bbad",
   "metadata": {},
   "outputs": [
    {
     "name": "stdout",
     "output_type": "stream",
     "text": [
      "[{'metric': {'__name__': 'up', 'instance': 'localhost:9090', 'job': 'prometheus'}, 'value': [1691644644.443, '1']}]\n"
     ]
    }
   ],
   "source": [
    "# Create a Prometheus API client\n",
    "prom = PrometheusConnect(url=prometheus_url)\n",
    "\n",
    "# Query a metric using PromQL\n",
    "query_result = prom.custom_query(\n",
    "    query=\"up\",  # Example metric name\n",
    "#     time=\"2023-08-01T00:00:00Z\",  # Optional time range\n",
    ")\n",
    "\n",
    "# Print the query result\n",
    "print(query_result)"
   ]
  },
  {
   "cell_type": "code",
   "execution_count": 5,
   "id": "fd480f6b",
   "metadata": {},
   "outputs": [
    {
     "name": "stdout",
     "output_type": "stream",
     "text": [
      "Redirect URL: your_api_endpoint?param1=value1&param2=value2&redirect=https://play.google.com/store/apps/details?id=com.example.app\n"
     ]
    }
   ],
   "source": [
    "import urllib.parse\n",
    "\n",
    "# Replace 'your_api_endpoint' with the actual API endpoint URL\n",
    "api_endpoint = 'your_api_endpoint'\n",
    "\n",
    "# Parameters to pass to the API, if needed\n",
    "api_params = {\n",
    "    'param1': 'value1',\n",
    "    'param2': 'value2'\n",
    "}\n",
    "\n",
    "# Encode the parameters for the API call\n",
    "encoded_params = urllib.parse.urlencode(api_params)\n",
    "\n",
    "# Construct the full API URL\n",
    "full_api_url = f'{api_endpoint}?{encoded_params}'\n",
    "\n",
    "# URL for redirecting to the Google Play Store\n",
    "google_play_url = 'https://play.google.com/store/apps/details?id=com.example.app'\n",
    "\n",
    "# Combine the API URL and the Google Play URL to create the final redirect URL\n",
    "redirect_url = f'{full_api_url}&redirect={google_play_url}'\n",
    "\n",
    "print(\"Redirect URL:\", redirect_url)"
   ]
  },
  {
   "cell_type": "code",
   "execution_count": null,
   "id": "c318dbb9",
   "metadata": {},
   "outputs": [],
   "source": []
  }
 ],
 "metadata": {
  "kernelspec": {
   "display_name": "Python 3 (ipykernel)",
   "language": "python",
   "name": "python3"
  },
  "language_info": {
   "codemirror_mode": {
    "name": "ipython",
    "version": 3
   },
   "file_extension": ".py",
   "mimetype": "text/x-python",
   "name": "python",
   "nbconvert_exporter": "python",
   "pygments_lexer": "ipython3",
   "version": "3.10.7"
  }
 },
 "nbformat": 4,
 "nbformat_minor": 5
}
